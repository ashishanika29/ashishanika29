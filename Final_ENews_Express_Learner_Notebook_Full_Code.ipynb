{
 "cells": [
  {
   "cell_type": "markdown",
   "id": "6yDxo9u0d9Na",
   "metadata": {
    "id": "6yDxo9u0d9Na"
   },
   "source": [
    "# Project Business Statistics: E-news Express\n"
   ]
  },
  {
   "cell_type": "markdown",
   "id": "SrLd-ICEmPSD",
   "metadata": {
    "id": "SrLd-ICEmPSD"
   },
   "source": [
    "## Define Problem Statement and Objectives"
   ]
  },
  {
   "cell_type": "markdown",
   "id": "14b5629a-fc0c-4490-91c0-c9168dc45a10",
   "metadata": {},
   "source": [
    "**PROBMEM STATEMENT**"
   ]
  },
  {
   "cell_type": "markdown",
   "id": "a31ee083-793f-4341-88dc-6588b060df29",
   "metadata": {},
   "source": [
    "E-news Express, an online news portal, aims to expand its business by acquiring new subscribers. The executives at E-news Express are of the opinion that there has been a decline in new monthly subscribers compared to the past year because the current webpage is not designed well enough in terms of the outline & recommended content to keep customers engaged long enough to make a decision to subscribe. This potentially has led to \n",
    "\n",
    "* `Decline` in new subscribers monthly over past year\n",
    "* `Revenue loss`"
   ]
  },
  {
   "cell_type": "markdown",
   "id": "22da233d-bf2b-4b65-94bf-9923645f4472",
   "metadata": {},
   "source": [
    "**OBJECTIVE**"
   ]
  },
  {
   "cell_type": "markdown",
   "id": "8dbd9a24-b40e-491b-85fb-4ed4136bd56d",
   "metadata": {},
   "source": [
    "The design team has developed a new landing page with an improved layout and more relevant content. The goal is to evaluate its effectiveness and gather insights to help assess its impact on attracting new subscribers.\n",
    "\n",
    "**Perform Exploratory Data Analysis**\n",
    "\n",
    "**Sample Data** \n",
    "\n",
    "1. Randomly selecting 100 users and divided into two group - control group and treatment group equally\n",
    "2. Data regarding the interaction of users in both groups with the two versions of the landing page was collected\n",
    "3. Distribution is a simple random sample from the population\n",
    "4. Sample observations are independent to each other\n",
    "5. Time spent on the landing page is in minutes\n",
    "6. Level of significance --> Type 1 Error --> prob = alpha = 5%\n",
    "\n",
    "**Answer to following question may help to do the assessment (also called A/B testing)** \n",
    "\n",
    "1. Do the users spend more time on the new landing page than on the existing landing page?\n",
    "2. Is the conversion rate (the proportion of users who visit the landing page and get converted) for the new page greater than the conversion rate for the old page?\n",
    "3. Does the converted status depend on the preferred language? [Hint: Create a contingency table using the pandas.crosstab() function]\n",
    "4. Is the time spent on the new page the same for the different language users?"
   ]
  },
  {
   "attachments": {},
   "cell_type": "markdown",
   "id": "b88c9293-c42c-43a3-8ab7-a76ed5f5d04c",
   "metadata": {},
   "source": [
    "\n",
    "\n",
    "## Import all the necessary libraries"
   ]
  },
  {
   "cell_type": "code",
   "execution_count": 1,
   "id": "r_5zUIePGS-1",
   "metadata": {
    "id": "r_5zUIePGS-1"
   },
   "outputs": [],
   "source": [
    "# Installing the libraries with the specified version.\n",
    "#!pip install numpy==1.25.2 pandas==1.5.3 matplotlib==3.7.1 seaborn==0.13.1 scipy==1.11.4 -q --user"
   ]
  },
  {
   "cell_type": "markdown",
   "id": "DAaycw-QP-j9",
   "metadata": {
    "id": "DAaycw-QP-j9"
   },
   "source": [
    "**Note**: *After running the above cell, kindly restart the notebook kernel and run all cells sequentially from the start again.*"
   ]
  },
  {
   "cell_type": "code",
   "execution_count": 2,
   "id": "658c5dec",
   "metadata": {
    "id": "658c5dec"
   },
   "outputs": [],
   "source": [
    "import numpy as np\n",
    "import pandas as pd\n",
    "from matplotlib import pyplot as plt\n",
    "import seaborn as sns\n",
    "import scipy.stats as stats"
   ]
  },
  {
   "cell_type": "markdown",
   "id": "6970dd99",
   "metadata": {
    "id": "6970dd99"
   },
   "source": [
    "## Reading the Data into a DataFrame"
   ]
  },
  {
   "cell_type": "code",
   "execution_count": 3,
   "id": "d3b95640",
   "metadata": {
    "id": "d3b95640"
   },
   "outputs": [],
   "source": [
    "df = pd.read_csv('abtest.csv')"
   ]
  },
  {
   "cell_type": "markdown",
   "id": "9d75cfa2",
   "metadata": {
    "id": "9d75cfa2"
   },
   "source": [
    "## Explore the dataset and extract insights using Exploratory Data Analysis"
   ]
  },
  {
   "cell_type": "markdown",
   "id": "27201534",
   "metadata": {
    "id": "27201534"
   },
   "source": [
    "- Data Overview\n",
    "  - Viewing the first and last few rows of the dataset\n",
    "  - Checking the shape of the dataset\n",
    "  - Getting the statistical summary for the variables\n",
    "- Check for missing values\n",
    "- Check for duplicates"
   ]
  },
  {
   "cell_type": "markdown",
   "id": "9a8adec5-26f2-4035-88c4-ae5528b0451e",
   "metadata": {},
   "source": [
    "**Viewing the first and last few rows of the dataset**"
   ]
  },
  {
   "cell_type": "code",
   "execution_count": 4,
   "id": "e1ad11d4",
   "metadata": {
    "id": "e1ad11d4"
   },
   "outputs": [
    {
     "data": {
      "text/html": [
       "<div>\n",
       "<style scoped>\n",
       "    .dataframe tbody tr th:only-of-type {\n",
       "        vertical-align: middle;\n",
       "    }\n",
       "\n",
       "    .dataframe tbody tr th {\n",
       "        vertical-align: top;\n",
       "    }\n",
       "\n",
       "    .dataframe thead th {\n",
       "        text-align: right;\n",
       "    }\n",
       "</style>\n",
       "<table border=\"1\" class=\"dataframe\">\n",
       "  <thead>\n",
       "    <tr style=\"text-align: right;\">\n",
       "      <th></th>\n",
       "      <th>user_id</th>\n",
       "      <th>group</th>\n",
       "      <th>landing_page</th>\n",
       "      <th>time_spent_on_the_page</th>\n",
       "      <th>converted</th>\n",
       "      <th>language_preferred</th>\n",
       "    </tr>\n",
       "  </thead>\n",
       "  <tbody>\n",
       "    <tr>\n",
       "      <th>0</th>\n",
       "      <td>546592</td>\n",
       "      <td>control</td>\n",
       "      <td>old</td>\n",
       "      <td>3.48</td>\n",
       "      <td>no</td>\n",
       "      <td>Spanish</td>\n",
       "    </tr>\n",
       "    <tr>\n",
       "      <th>1</th>\n",
       "      <td>546468</td>\n",
       "      <td>treatment</td>\n",
       "      <td>new</td>\n",
       "      <td>7.13</td>\n",
       "      <td>yes</td>\n",
       "      <td>English</td>\n",
       "    </tr>\n",
       "    <tr>\n",
       "      <th>2</th>\n",
       "      <td>546462</td>\n",
       "      <td>treatment</td>\n",
       "      <td>new</td>\n",
       "      <td>4.40</td>\n",
       "      <td>no</td>\n",
       "      <td>Spanish</td>\n",
       "    </tr>\n",
       "    <tr>\n",
       "      <th>3</th>\n",
       "      <td>546567</td>\n",
       "      <td>control</td>\n",
       "      <td>old</td>\n",
       "      <td>3.02</td>\n",
       "      <td>no</td>\n",
       "      <td>French</td>\n",
       "    </tr>\n",
       "    <tr>\n",
       "      <th>4</th>\n",
       "      <td>546459</td>\n",
       "      <td>treatment</td>\n",
       "      <td>new</td>\n",
       "      <td>4.75</td>\n",
       "      <td>yes</td>\n",
       "      <td>Spanish</td>\n",
       "    </tr>\n",
       "  </tbody>\n",
       "</table>\n",
       "</div>"
      ],
      "text/plain": [
       "   user_id      group landing_page  time_spent_on_the_page converted  \\\n",
       "0   546592    control          old                    3.48        no   \n",
       "1   546468  treatment          new                    7.13       yes   \n",
       "2   546462  treatment          new                    4.40        no   \n",
       "3   546567    control          old                    3.02        no   \n",
       "4   546459  treatment          new                    4.75       yes   \n",
       "\n",
       "  language_preferred  \n",
       "0            Spanish  \n",
       "1            English  \n",
       "2            Spanish  \n",
       "3             French  \n",
       "4            Spanish  "
      ]
     },
     "execution_count": 4,
     "metadata": {},
     "output_type": "execute_result"
    }
   ],
   "source": [
    "df.head()"
   ]
  },
  {
   "cell_type": "code",
   "execution_count": 5,
   "id": "8d2ac062-5b1e-433b-bb15-974ed2bd0862",
   "metadata": {},
   "outputs": [
    {
     "data": {
      "text/html": [
       "<div>\n",
       "<style scoped>\n",
       "    .dataframe tbody tr th:only-of-type {\n",
       "        vertical-align: middle;\n",
       "    }\n",
       "\n",
       "    .dataframe tbody tr th {\n",
       "        vertical-align: top;\n",
       "    }\n",
       "\n",
       "    .dataframe thead th {\n",
       "        text-align: right;\n",
       "    }\n",
       "</style>\n",
       "<table border=\"1\" class=\"dataframe\">\n",
       "  <thead>\n",
       "    <tr style=\"text-align: right;\">\n",
       "      <th></th>\n",
       "      <th>user_id</th>\n",
       "      <th>group</th>\n",
       "      <th>landing_page</th>\n",
       "      <th>time_spent_on_the_page</th>\n",
       "      <th>converted</th>\n",
       "      <th>language_preferred</th>\n",
       "    </tr>\n",
       "  </thead>\n",
       "  <tbody>\n",
       "    <tr>\n",
       "      <th>95</th>\n",
       "      <td>546446</td>\n",
       "      <td>treatment</td>\n",
       "      <td>new</td>\n",
       "      <td>5.15</td>\n",
       "      <td>no</td>\n",
       "      <td>Spanish</td>\n",
       "    </tr>\n",
       "    <tr>\n",
       "      <th>96</th>\n",
       "      <td>546544</td>\n",
       "      <td>control</td>\n",
       "      <td>old</td>\n",
       "      <td>6.52</td>\n",
       "      <td>yes</td>\n",
       "      <td>English</td>\n",
       "    </tr>\n",
       "    <tr>\n",
       "      <th>97</th>\n",
       "      <td>546472</td>\n",
       "      <td>treatment</td>\n",
       "      <td>new</td>\n",
       "      <td>7.07</td>\n",
       "      <td>yes</td>\n",
       "      <td>Spanish</td>\n",
       "    </tr>\n",
       "    <tr>\n",
       "      <th>98</th>\n",
       "      <td>546481</td>\n",
       "      <td>treatment</td>\n",
       "      <td>new</td>\n",
       "      <td>6.20</td>\n",
       "      <td>yes</td>\n",
       "      <td>Spanish</td>\n",
       "    </tr>\n",
       "    <tr>\n",
       "      <th>99</th>\n",
       "      <td>546483</td>\n",
       "      <td>treatment</td>\n",
       "      <td>new</td>\n",
       "      <td>5.86</td>\n",
       "      <td>yes</td>\n",
       "      <td>English</td>\n",
       "    </tr>\n",
       "  </tbody>\n",
       "</table>\n",
       "</div>"
      ],
      "text/plain": [
       "    user_id      group landing_page  time_spent_on_the_page converted  \\\n",
       "95   546446  treatment          new                    5.15        no   \n",
       "96   546544    control          old                    6.52       yes   \n",
       "97   546472  treatment          new                    7.07       yes   \n",
       "98   546481  treatment          new                    6.20       yes   \n",
       "99   546483  treatment          new                    5.86       yes   \n",
       "\n",
       "   language_preferred  \n",
       "95            Spanish  \n",
       "96            English  \n",
       "97            Spanish  \n",
       "98            Spanish  \n",
       "99            English  "
      ]
     },
     "execution_count": 5,
     "metadata": {},
     "output_type": "execute_result"
    }
   ],
   "source": [
    "df.tail()"
   ]
  },
  {
   "cell_type": "markdown",
   "id": "0c12a988-99d3-4fb6-affa-4998adf9b457",
   "metadata": {},
   "source": [
    "**Shape of the data**"
   ]
  },
  {
   "cell_type": "code",
   "execution_count": 6,
   "id": "0289c3ac-1bc1-4b84-a2c8-e0c16bb9471d",
   "metadata": {},
   "outputs": [
    {
     "data": {
      "text/plain": [
       "(100, 6)"
      ]
     },
     "execution_count": 6,
     "metadata": {},
     "output_type": "execute_result"
    }
   ],
   "source": [
    "df.shape"
   ]
  },
  {
   "cell_type": "markdown",
   "id": "70dc76cc-b77e-4e80-8486-82c4d9d90c33",
   "metadata": {},
   "source": [
    "**Information about data types**"
   ]
  },
  {
   "cell_type": "code",
   "execution_count": 7,
   "id": "dadb4c61-355f-4ac2-b72e-7399a26e4875",
   "metadata": {},
   "outputs": [
    {
     "name": "stdout",
     "output_type": "stream",
     "text": [
      "<class 'pandas.core.frame.DataFrame'>\n",
      "RangeIndex: 100 entries, 0 to 99\n",
      "Data columns (total 6 columns):\n",
      " #   Column                  Non-Null Count  Dtype  \n",
      "---  ------                  --------------  -----  \n",
      " 0   user_id                 100 non-null    int64  \n",
      " 1   group                   100 non-null    object \n",
      " 2   landing_page            100 non-null    object \n",
      " 3   time_spent_on_the_page  100 non-null    float64\n",
      " 4   converted               100 non-null    object \n",
      " 5   language_preferred      100 non-null    object \n",
      "dtypes: float64(1), int64(1), object(4)\n",
      "memory usage: 4.8+ KB\n"
     ]
    }
   ],
   "source": [
    "df.info()"
   ]
  },
  {
   "cell_type": "markdown",
   "id": "87a6436e-0c6b-4ed4-8630-2910acabba63",
   "metadata": {},
   "source": [
    "**EDA - 5 point summary of the numerical data**"
   ]
  },
  {
   "cell_type": "code",
   "execution_count": 8,
   "id": "772db606-3328-425e-94b7-e6c6994c0494",
   "metadata": {},
   "outputs": [
    {
     "data": {
      "text/html": [
       "<div>\n",
       "<style scoped>\n",
       "    .dataframe tbody tr th:only-of-type {\n",
       "        vertical-align: middle;\n",
       "    }\n",
       "\n",
       "    .dataframe tbody tr th {\n",
       "        vertical-align: top;\n",
       "    }\n",
       "\n",
       "    .dataframe thead th {\n",
       "        text-align: right;\n",
       "    }\n",
       "</style>\n",
       "<table border=\"1\" class=\"dataframe\">\n",
       "  <thead>\n",
       "    <tr style=\"text-align: right;\">\n",
       "      <th></th>\n",
       "      <th>count</th>\n",
       "      <th>mean</th>\n",
       "      <th>std</th>\n",
       "      <th>min</th>\n",
       "      <th>25%</th>\n",
       "      <th>50%</th>\n",
       "      <th>75%</th>\n",
       "      <th>max</th>\n",
       "    </tr>\n",
       "  </thead>\n",
       "  <tbody>\n",
       "    <tr>\n",
       "      <th>user_id</th>\n",
       "      <td>100.0</td>\n",
       "      <td>546517.0000</td>\n",
       "      <td>52.295779</td>\n",
       "      <td>546443.00</td>\n",
       "      <td>546467.75</td>\n",
       "      <td>546492.500</td>\n",
       "      <td>546567.2500</td>\n",
       "      <td>546592.00</td>\n",
       "    </tr>\n",
       "    <tr>\n",
       "      <th>time_spent_on_the_page</th>\n",
       "      <td>100.0</td>\n",
       "      <td>5.3778</td>\n",
       "      <td>2.378166</td>\n",
       "      <td>0.19</td>\n",
       "      <td>3.88</td>\n",
       "      <td>5.415</td>\n",
       "      <td>7.0225</td>\n",
       "      <td>10.71</td>\n",
       "    </tr>\n",
       "  </tbody>\n",
       "</table>\n",
       "</div>"
      ],
      "text/plain": [
       "                        count         mean        std        min        25%  \\\n",
       "user_id                 100.0  546517.0000  52.295779  546443.00  546467.75   \n",
       "time_spent_on_the_page  100.0       5.3778   2.378166       0.19       3.88   \n",
       "\n",
       "                               50%          75%        max  \n",
       "user_id                 546492.500  546567.2500  546592.00  \n",
       "time_spent_on_the_page       5.415       7.0225      10.71  "
      ]
     },
     "execution_count": 8,
     "metadata": {},
     "output_type": "execute_result"
    }
   ],
   "source": [
    "df.describe().T"
   ]
  },
  {
   "cell_type": "markdown",
   "id": "11319a9f-e1ed-433d-8bab-ed58beb08a7c",
   "metadata": {},
   "source": [
    "**Check for missing values**"
   ]
  },
  {
   "cell_type": "code",
   "execution_count": 9,
   "id": "881a13c5-0194-4420-b578-29c78629a598",
   "metadata": {},
   "outputs": [
    {
     "data": {
      "text/plain": [
       "user_id                   0\n",
       "group                     0\n",
       "landing_page              0\n",
       "time_spent_on_the_page    0\n",
       "converted                 0\n",
       "language_preferred        0\n",
       "dtype: int64"
      ]
     },
     "execution_count": 9,
     "metadata": {},
     "output_type": "execute_result"
    }
   ],
   "source": [
    "df.isnull().sum()"
   ]
  },
  {
   "cell_type": "markdown",
   "id": "f1225ca0-845f-42e9-986c-640454c7b902",
   "metadata": {},
   "source": [
    "**Check for duplicates**"
   ]
  },
  {
   "cell_type": "code",
   "execution_count": 10,
   "id": "8b7911eb-2292-4a3a-8a53-b9010bf68083",
   "metadata": {},
   "outputs": [
    {
     "data": {
      "text/plain": [
       "0"
      ]
     },
     "execution_count": 10,
     "metadata": {},
     "output_type": "execute_result"
    }
   ],
   "source": [
    "df.duplicated().sum()"
   ]
  },
  {
   "cell_type": "markdown",
   "id": "8da8fc23-93f1-42da-b5ce-1aff52db4bfb",
   "metadata": {},
   "source": [
    "### OBSERVATION ON THE SAMPLE DATA"
   ]
  },
  {
   "cell_type": "markdown",
   "id": "a5b35efc-6c1e-4955-8fcf-cddc4f305f70",
   "metadata": {
    "jp-MarkdownHeadingCollapsed": true
   },
   "source": [
    "- **Total Rows:** 100, each with 6 columns:  `user_id`, `group`, `landing_page`, `time_spent_on_the_page`, `converted`, `language_preferred`.\n",
    "\n",
    "\n",
    "- **No Missing or Duplicate Values**  \n",
    "\n",
    "- **Data Types:**  \n",
    "  - **`user_id`**: Integer (Indexed 0 to 99, representing 100 users)  \n",
    "  - **`time_spent_on_the_page`**: Numerical (Minutes)  \n",
    "  - **`landing_page`**: Categorical (Old/New)  \n",
    "  - **`group`**: Categorical  \n",
    "    - **Control** → Old Landing Page  \n",
    "    - **Treatment** → New Landing Page  \n",
    "  - **`converted`**: Categorical (Yes/No)  \n",
    "  - **`language_preferred`**: Categorical (English, French, Spanish)  \n",
    "- The time spent is continuous in nature.\n",
    "  <br>\n",
    "- **Exploratory Data Analysis:**  \n",
    "  - **`time_spent_on_the_page`**:  \n",
    "    - `Minimum` time spent: 19 seconds  \n",
    "    - `Maximum` time spent: 10.71 minutes  \n",
    "    - `Average` time spent: 5.37 minutes\n",
    "  - The `median` time spent (5.41 minutes) is approximately the same as the `mean` time spent (5.37 minutes), which suggests that the data may be approximately normally distributed.\n",
    "  - The minimum and maximum time spent from the sample data are 19 seconds and 10.71 minutes respectively. This shows that the time spent covers a wide range of values and is continuos in nature.\n"
   ]
  },
  {
   "cell_type": "markdown",
   "id": "68f3b2c9",
   "metadata": {
    "id": "68f3b2c9"
   },
   "source": [
    "### Univariate Analysis"
   ]
  },
  {
   "cell_type": "markdown",
   "id": "195d43f1-0649-4e0d-8937-768ca4cacfb1",
   "metadata": {},
   "source": [
    "**Landing Page**"
   ]
  },
  {
   "cell_type": "code",
   "execution_count": 11,
   "id": "22b420ff-1343-4eaf-94d8-d6e55ab56346",
   "metadata": {},
   "outputs": [
    {
     "data": {
      "text/plain": [
       "landing_page\n",
       "old    50\n",
       "new    50\n",
       "Name: count, dtype: int64"
      ]
     },
     "execution_count": 11,
     "metadata": {},
     "output_type": "execute_result"
    }
   ],
   "source": [
    "df['landing_page'].value_counts()"
   ]
  },
  {
   "cell_type": "code",
   "execution_count": 12,
   "id": "1932d0f3",
   "metadata": {
    "id": "1932d0f3"
   },
   "outputs": [
    {
     "data": {
      "image/png": "[encoded data removed]",
      "text/plain": [
       "<Figure size 300x300 with 1 Axes>"
      ]
     },
     "metadata": {},
     "output_type": "display_data"
    }
   ],
   "source": [
    "# Bar plot for landing_page\n",
    "plt.figure(figsize=(3,3))\n",
    "sns.countplot(data=df, x='landing_page')\n",
    "plt.show()"
   ]
  },
  {
   "cell_type": "markdown",
   "id": "962be2d9-0453-4d53-aaa7-dfb3a62c6ded",
   "metadata": {},
   "source": [
    "**Observation** Out of 100 users, 50 landed on the `new` page and 50 landed on the `old` page"
   ]
  },
  {
   "cell_type": "markdown",
   "id": "e216960b-411d-4aab-a4a9-65164694a4f8",
   "metadata": {},
   "source": [
    "**Group**"
   ]
  },
  {
   "cell_type": "code",
   "execution_count": 13,
   "id": "99ae0aae-4423-4b90-b9b2-4f0c46a72087",
   "metadata": {},
   "outputs": [
    {
     "data": {
      "text/plain": [
       "group\n",
       "control      50\n",
       "treatment    50\n",
       "Name: count, dtype: int64"
      ]
     },
     "execution_count": 13,
     "metadata": {},
     "output_type": "execute_result"
    }
   ],
   "source": [
    "df['group'].value_counts()"
   ]
  },
  {
   "cell_type": "code",
   "execution_count": 14,
   "id": "a67b6beb-7787-496f-ad01-15be44f855bf",
   "metadata": {},
   "outputs": [
    {
     "data": {
      "image/png": "[encoded data removed]",
      "text/plain": [
       "<Figure size 300x300 with 1 Axes>"
      ]
     },
     "metadata": {},
     "output_type": "display_data"
    }
   ],
   "source": [
    "# Bar plot for group\n",
    "plt.figure(figsize=(3,3))\n",
    "sns.countplot(data=df, x='group')\n",
    "plt.show()"
   ]
  },
  {
   "cell_type": "markdown",
   "id": "f83910bf-da2a-455b-86f0-5e55e78a9caa",
   "metadata": {},
   "source": [
    "**Observation** Out of 100 users, 50 are of `control` group (landed to old page) and other 50 are of `treatment` group (landed on the new page)"
   ]
  },
  {
   "cell_type": "markdown",
   "id": "25d34e51-a92c-4a0e-adb4-4dcfbad2f901",
   "metadata": {},
   "source": [
    "**Conversion**"
   ]
  },
  {
   "cell_type": "code",
   "execution_count": 15,
   "id": "3aa3ec90-f5cd-4060-a0d2-358d3984fff3",
   "metadata": {},
   "outputs": [
    {
     "data": {
      "text/plain": [
       "converted\n",
       "yes    54\n",
       "no     46\n",
       "Name: count, dtype: int64"
      ]
     },
     "execution_count": 15,
     "metadata": {},
     "output_type": "execute_result"
    }
   ],
   "source": [
    "df['converted'].value_counts()"
   ]
  },
  {
   "cell_type": "code",
   "execution_count": 16,
   "id": "500a1b07-275a-4dbe-8f2f-3a0ce6ab897e",
   "metadata": {},
   "outputs": [
    {
     "data": {
      "image/png": "[encoded data removed]",
      "text/plain": [
       "<Figure size 300x300 with 1 Axes>"
      ]
     },
     "metadata": {},
     "output_type": "display_data"
    }
   ],
   "source": [
    "# Bar plot for converted\n",
    "plt.figure(figsize=(3,3))\n",
    "sns.countplot(data=df, x='converted')\n",
    "plt.show()  "
   ]
  },
  {
   "cell_type": "markdown",
   "id": "e616dbbb-ce57-4a56-aaaa-dd32d9e62117",
   "metadata": {},
   "source": [
    "**Observation** Out of 100 users, `54 users (54%)` were converted to new subscriber and `46 users (46%)` were not. "
   ]
  },
  {
   "cell_type": "markdown",
   "id": "e0267d36-fc27-4250-9977-d840ab89ec61",
   "metadata": {},
   "source": [
    "**Language Preferred**"
   ]
  },
  {
   "cell_type": "code",
   "execution_count": 17,
   "id": "f09bb503-a4c2-4ed8-b1a6-2344df266d89",
   "metadata": {},
   "outputs": [
    {
     "data": {
      "text/plain": [
       "language_preferred\n",
       "Spanish    34\n",
       "French     34\n",
       "English    32\n",
       "Name: count, dtype: int64"
      ]
     },
     "execution_count": 17,
     "metadata": {},
     "output_type": "execute_result"
    }
   ],
   "source": [
    "df['language_preferred'].value_counts()"
   ]
  },
  {
   "cell_type": "code",
   "execution_count": 18,
   "id": "9d5b8b4d-a3e6-4a35-bb6a-c1e6d4867d82",
   "metadata": {},
   "outputs": [
    {
     "data": {
      "image/png": "[encoded data removed]",
      "text/plain": [
       "<Figure size 300x300 with 1 Axes>"
      ]
     },
     "metadata": {},
     "output_type": "display_data"
    }
   ],
   "source": [
    "# Bar plot for language_preferred\n",
    "plt.figure(figsize=(3,3))\n",
    "sns.countplot(data=df, x='language_preferred')\n",
    "plt.show() "
   ]
  },
  {
   "cell_type": "markdown",
   "id": "097d4bca-6908-4774-a4d4-d49f742d1c25",
   "metadata": {},
   "source": [
    "**Observation** Out of 100 users, \n",
    "    `34 users chose Spanish`\n",
    "    `34 users chose French`\n",
    "    `32 users chose English`"
   ]
  },
  {
   "cell_type": "code",
   "execution_count": 19,
   "id": "77e3216c-25df-4f61-9121-635def7759a7",
   "metadata": {},
   "outputs": [
    {
     "data": {
      "image/png": "[encoded data removed]",
      "text/plain": [
       "<Figure size 640x480 with 1 Axes>"
      ]
     },
     "metadata": {},
     "output_type": "display_data"
    },
    {
     "data": {
      "image/png": "[encoded data removed]",
      "text/plain": [
       "<Figure size 640x480 with 1 Axes>"
      ]
     },
     "metadata": {},
     "output_type": "display_data"
    }
   ],
   "source": [
    "# time_spent_on_the_page\n",
    "sns.histplot(data=df,x='time_spent_on_the_page', kde=True)\n",
    "plt.show()\n",
    "sns.boxplot(data=df,x='time_spent_on_the_page')\n",
    "plt.show()"
   ]
  },
  {
   "cell_type": "markdown",
   "id": "3869f9fb-5422-481e-8653-efb4a36e0e18",
   "metadata": {},
   "source": [
    "**Observation**\n",
    "- The histogram indicates a **normal distribution** (Simple Sample Distribution).  \n",
    "- There are **no significant outliers** in the dataset.  \n",
    "- The **average time spent on the page exceeds 5 minutes**.  "
   ]
  },
  {
   "cell_type": "markdown",
   "id": "fad2de2f",
   "metadata": {
    "id": "fad2de2f"
   },
   "source": [
    "### Bivariate Analysis"
   ]
  },
  {
   "cell_type": "markdown",
   "id": "55e54a55-7842-46bf-b43c-9f5b421b4a49",
   "metadata": {
    "id": "58e9a1d0"
   },
   "source": [
    " **Conversion vs. Time Spent**"
   ]
  },
  {
   "cell_type": "code",
   "execution_count": 20,
   "id": "7dfe03be-e39c-41f4-834e-4c56c021d02a",
   "metadata": {},
   "outputs": [
    {
     "data": {
      "image/png": "[encoded data removed]",
      "text/plain": [
       "<Figure size 640x480 with 1 Axes>"
      ]
     },
     "metadata": {},
     "output_type": "display_data"
    }
   ],
   "source": [
    "# Boxplot: Conversion vs. Time Spent\n",
    "sns.boxplot(x='converted', y='time_spent_on_the_page', data=df)\n",
    "plt.title('Conversion vs. Time Spent');"
   ]
  },
  {
   "cell_type": "markdown",
   "id": "279b0061-ef13-4588-b9df-63f69fad911b",
   "metadata": {},
   "source": [
    "**Observation**\n",
    "\n",
    "- Users who did not convert into new subscribers spent less time on the landing page compared to those who did.\n",
    "    - **This may indicate that non-converting users did not find the content engaging or relevant.**\n",
    "- One user spent more than 8 minutes on the landing page but still chose not to subscribe, is an outlier. \n",
    "- There are a few outliers among converted users who spent more than 10 minutes on the page.  \n",
    "  - **This suggests that new subscribers found the content engaging and valuable.** "
   ]
  },
  {
   "cell_type": "markdown",
   "id": "07ed6959-b3ea-4923-8250-4731508fc352",
   "metadata": {},
   "source": [
    " **Language vs. Time Spent**"
   ]
  },
  {
   "cell_type": "code",
   "execution_count": 21,
   "id": "3887c0ec-923f-4a0f-be8e-34f282c89ecc",
   "metadata": {},
   "outputs": [
    {
     "data": {
      "image/png": "[encoded data removed]",
      "text/plain": [
       "<Figure size 640x480 with 1 Axes>"
      ]
     },
     "metadata": {},
     "output_type": "display_data"
    }
   ],
   "source": [
    "# Boxplot: Language vs. Time Spent\n",
    "plt.subplot(1, 2, 2)\n",
    "sns.boxplot(x='language_preferred', y='time_spent_on_the_page', data=df)\n",
    "plt.title('Language vs. Time Spent');"
   ]
  },
  {
   "cell_type": "markdown",
   "id": "3d256942-9734-4933-bedc-e9e050690031",
   "metadata": {},
   "source": [
    "**Observation**\n",
    "\n",
    "- Users who prefer Spanish have spent the least amount of time on the landing page. \n",
    "- **English and French are preferred over Spanish.**"
   ]
  },
  {
   "cell_type": "markdown",
   "id": "06b14398-bd7a-4063-bf91-221b85d4bfe5",
   "metadata": {},
   "source": [
    " **Group vs. Time Spent**"
   ]
  },
  {
   "cell_type": "code",
   "execution_count": 22,
   "id": "abe9b58a-17d7-4145-8222-670fb30c37e3",
   "metadata": {},
   "outputs": [
    {
     "data": {
      "image/png": "[encoded data removed]",
      "text/plain": [
       "<Figure size 640x480 with 1 Axes>"
      ]
     },
     "metadata": {},
     "output_type": "display_data"
    }
   ],
   "source": [
    "# Boxplot: Group vs. Time Spent\n",
    "sns.boxplot(x='group', y='time_spent_on_the_page', data=df)\n",
    "plt.title('Group vs. Time Spent');"
   ]
  },
  {
   "cell_type": "markdown",
   "id": "36bcfa5b-9cac-4609-aa6d-e7b93bef34b2",
   "metadata": {},
   "source": [
    "**Observation**\n",
    "\n",
    "- Control group (old landing page) users spend an average of 4 minutes on the page. \n",
    "- Treatment group (new landing page) users spend around 6 minutes on the page.  \n",
    "\n",
    "**This suggests that users find the new design and layout more engaging.**"
   ]
  },
  {
   "cell_type": "markdown",
   "id": "27906576",
   "metadata": {
    "id": "27906576"
   },
   "source": [
    "## 1. Do the users spend more time on the new landing page than the existing landing page?"
   ]
  },
  {
   "cell_type": "markdown",
   "id": "e5fdf0c8",
   "metadata": {
    "id": "e5fdf0c8"
   },
   "source": [
    "### Perform Visual Analysis"
   ]
  },
  {
   "cell_type": "code",
   "execution_count": 23,
   "id": "6eZJa41eg21n",
   "metadata": {
    "id": "6eZJa41eg21n"
   },
   "outputs": [
    {
     "data": {
      "image/png": "[encoded data removed]",
      "text/plain": [
       "<Figure size 640x480 with 1 Axes>"
      ]
     },
     "metadata": {},
     "output_type": "display_data"
    }
   ],
   "source": [
    "# Boxplot: Landing Page vs. Time Spent\n",
    "sns.boxplot(x='landing_page', y='time_spent_on_the_page', data=df)\n",
    "plt.title('landing_page vs. Time Spent');"
   ]
  },
  {
   "cell_type": "markdown",
   "id": "56b3dafd",
   "metadata": {
    "id": "56b3dafd"
   },
   "source": [
    "### Step 1: Define the null and alternate hypotheses"
   ]
  },
  {
   "cell_type": "markdown",
   "id": "d2ac77ef",
   "metadata": {
    "id": "d2ac77ef"
   },
   "source": [
    "The null hypothesis ($H_0$) always represents the status quo or no effect scenario. lets assume $\\mu_{\\text{new}}$ and $\\mu_{\\text{old}}$ represents the mean time spent on the new and old landing page \n",
    "\n",
    "* Null Hypothesis\n",
    "$H_0$: Users do not spend more time on the new landing page than the existing landing page. \n",
    "(i.e., The time spent on the new landing page is less than or equal to the time spent on the existing landing page.) \n",
    "$\\mu_{\\text{new}} \\leq \\mu_{\\text{old}}$\n",
    "\n",
    "* Alternative Hypothesis\n",
    "$H_a$:Users spend more time on the new landing page than the existing landing page. \n",
    "(i.e., The time spent on the new landing page is greater than the time spent on the existing landing page.)\n",
    "$\\mu_{\\text{new}} \\gt \\mu_{\\text{old}}$\n",
    "\n",
    "* Since alternative hypothesis is greater than type, its a one-tailed test.\n"
   ]
  },
  {
   "cell_type": "markdown",
   "id": "c7ee4907",
   "metadata": {
    "id": "c7ee4907"
   },
   "source": [
    "### Step 2: Select Appropriate test"
   ]
  },
  {
   "cell_type": "markdown",
   "id": "2c183cd7",
   "metadata": {
    "id": "2c183cd7"
   },
   "source": [
    "Based on the questionaire - \n",
    "`Compare the sample means from 2 independent populations` (`users` visited `old landing page` vs `users` visited `new landing page`).\n",
    "`Population standard deviation` is unknown. \n",
    "\n",
    "**Lets identify the appropriate test based on the hypothesis framework**\n",
    "* Independent populations - as we are taking random samples for two different type of users, the two samples are from `two independent populations`.\n",
    "* Continuous data - Yes, the time spent is measured on a `continuous scale`.\n",
    "* Observations are from a `simple random sample` - Yes, we are informed that the collected sample a simple random sample (`Refer to the FAQ section of the project`)\n",
    "* Population standard deviation is known - No\n",
    "\n",
    "\n",
    "**We can use 2-sample ind. t-test for `'MEAN'` to address the problem**"
   ]
  },
  {
   "cell_type": "markdown",
   "id": "3f58c9a7",
   "metadata": {
    "id": "3f58c9a7"
   },
   "source": [
    "### Step 3: Decide the significance level"
   ]
  },
  {
   "cell_type": "markdown",
   "id": "92d7d7ee",
   "metadata": {
    "id": "92d7d7ee"
   },
   "source": [
    "Based on the problem statement, it is given that the level of significance aka $\\alpha = 0.05$."
   ]
  },
  {
   "cell_type": "code",
   "execution_count": 24,
   "id": "9b082af9-9e81-4be8-aebc-78288b465d18",
   "metadata": {},
   "outputs": [],
   "source": [
    "# set level of signifiance aka alpha to 0.05 (given)\n",
    "alpha = 0.05"
   ]
  },
  {
   "cell_type": "markdown",
   "id": "5fed2eac",
   "metadata": {
    "id": "5fed2eac"
   },
   "source": [
    "### Step 4: Collect and prepare data"
   ]
  },
  {
   "cell_type": "code",
   "execution_count": 25,
   "id": "f5a59495",
   "metadata": {
    "id": "f5a59495"
   },
   "outputs": [
    {
     "name": "stdout",
     "output_type": "stream",
     "text": [
      "Time spent on the new landing page is: [ 7.13  4.4   4.75  5.25 10.71  5.86  6.03  6.27  8.73  3.65  7.02  6.18\n",
      "  4.39  9.49  7.81  5.41  1.65  7.16  7.16  3.91  5.37  7.23  8.08 10.5\n",
      "  5.65  6.47  6.41  8.3   6.01  6.79  7.27  6.7   5.42  5.08  7.46  3.88\n",
      "  9.12  4.68  5.26  5.74  6.71  3.68  3.3   5.4   8.47  4.94  5.15  7.07\n",
      "  6.2   5.86]\n",
      "-----------------------------------------------------------\n",
      "Time spent on the old landing page is: [ 3.48  3.02  5.28  6.53  2.08  6.21  2.58  8.72  0.4  10.3   3.88  2.66\n",
      "  7.03  4.05  4.28  3.52  5.39  4.52  4.46  8.5   3.13  6.04  0.19  8.46\n",
      "  1.92  8.02  0.22  4.71  0.93  1.81  7.4   9.15  4.18  5.47  5.96  6.6\n",
      "  4.75  2.23  0.4   4.87  6.57  1.44  3.21  2.9   4.3   0.91  6.04  8.35\n",
      "  3.05  6.52]\n",
      "-----------------------------------------------------------\n",
      "The mean time spent on the new landing page is --> (mu_new) : 6.22\n",
      "-----------------------------------------------------------\n",
      "The mean time spent on the old landing page is --> (mu_old): 4.53\n",
      "-----------------------------------------------------------\n",
      "The sample standard deviation of the ts_new page is: 1.82\n",
      "The sample standard deviation of the ts_old page is: 2.58\n",
      "-----------------------------------------------------------\n"
     ]
    }
   ],
   "source": [
    "# Next step is two compute standard deviation for new and old landing page to understand the difference between the 2 std deviations. \n",
    "# extract the time_spent on the new page \n",
    "ts_new = df[df['landing_page'] == 'new']['time_spent_on_the_page']\n",
    "print('Time spent on the new landing page is:', np.array(ts_new))\n",
    "print('-----------------------------------------------------------')\n",
    "# extract the time_spent on the old page\n",
    "ts_old = df[df['landing_page'] == 'old']['time_spent_on_the_page'] \n",
    "print('Time spent on the old landing page is:', np.array(ts_old))\n",
    "print('-----------------------------------------------------------')\n",
    "print('The mean time spent on the new landing page is --> (mu_new) :', round(ts_new.mean(),2))\n",
    "print('-----------------------------------------------------------')\n",
    "print('The mean time spent on the old landing page is --> (mu_old):', round(ts_old.mean(),2))\n",
    "print('-----------------------------------------------------------')\n",
    "print('The sample standard deviation of the ts_new page is:', round(ts_new.std(),2))\n",
    "print('The sample standard deviation of the ts_old page is:', round(ts_old.std(),2))\n",
    "print('-----------------------------------------------------------')"
   ]
  },
  {
   "cell_type": "markdown",
   "id": "6f332cfa-ff88-44f8-a885-28d28bb95923",
   "metadata": {},
   "source": [
    "**Observation**\n",
    "\n",
    "- $\\mu_{\\text{new}}$ is 6.22 minutes and  $\\mu_{\\text{old}}$ is 4.53 minutes. This means, at a discriptive level, data shows that uses spent more time on the `new landing page` compare to `old landing page`.\n",
    "- To perform, `2-sample ind. t-test` for `'MEAN'` --> data shows that\n",
    "    1. **`Sample standard deviation`** is **`NOT EQUAL`** between the time spent on the new and old page and so, `equal_var` must set to `False`\n",
    "    2. `alternative` should be set to `'greater'` - its one-tailed test as $\\mu_{\\text{new}} \\gt \\mu_{\\text{old}}$"
   ]
  },
  {
   "cell_type": "markdown",
   "id": "f5c5258d",
   "metadata": {
    "id": "f5c5258d"
   },
   "source": [
    "### Step 5: Calculate the p-value"
   ]
  },
  {
   "cell_type": "code",
   "execution_count": 26,
   "id": "fac8594a",
   "metadata": {
    "id": "fac8594a"
   },
   "outputs": [
    {
     "name": "stdout",
     "output_type": "stream",
     "text": [
      "The p-value is 0.0001392381225166549\n"
     ]
    }
   ],
   "source": [
    "# import test_ind function of scipy --> based on the selected test on step 2. \n",
    "\n",
    "from scipy.stats import ttest_ind\n",
    "# find the p-value\n",
    "test_stat, p_value = ttest_ind(ts_new, ts_old, equal_var = False, alternative = 'greater') \n",
    "print('The p-value is ' + str(p_value))"
   ]
  },
  {
   "cell_type": "markdown",
   "id": "359b12f8",
   "metadata": {
    "id": "359b12f8"
   },
   "source": [
    "### Step 6: Compare the p-value with $\\alpha$"
   ]
  },
  {
   "cell_type": "code",
   "execution_count": 27,
   "id": "7be47289",
   "metadata": {
    "id": "7be47289"
   },
   "outputs": [
    {
     "name": "stdout",
     "output_type": "stream",
     "text": [
      "========================================================================================================================\n",
      "As the p-value 0.0001392381225166549 is less than the level of significance, we reject the null hypothesis.\n",
      "========================================================================================================================\n"
     ]
    }
   ],
   "source": [
    "print(\"=\" * 120)\n",
    "if p_value < alpha:\n",
    "    print(f'As the p-value {p_value} is less than the level of significance, we reject the null hypothesis.')\n",
    "else:\n",
    "    print(f'As the p-value {p_value} is greater than the level of significance, we fail to reject the null hypothesis.')\n",
    "print(\"=\" * 120)"
   ]
  },
  {
   "cell_type": "markdown",
   "id": "d9affc84",
   "metadata": {
    "id": "d9affc84"
   },
   "source": [
    "### Step 7:  Draw inference"
   ]
  },
  {
   "cell_type": "markdown",
   "id": "6b16dd4b",
   "metadata": {
    "id": "6b16dd4b"
   },
   "source": [
    "Since we reject the null hypothesis ($H_0$), this means that there is strong statistical evidence to support the claim that users spend more time on the new landing page compared to the existing one. The `p-value` of `0.001` indicates that the probability of observing this result under the assumption that the null hypothesis is true is `extremely low (0.1%)`. This suggests that the increase in time spent on the new landing page is not due to random chance but rather a real effect.\n",
    "\n",
    "Therefore, based on the one-tailed independent t-test, we can conclude with 99.9% confidence that the new landing page leads to higher user engagement in terms of time spent."
   ]
  },
  {
   "cell_type": "markdown",
   "id": "353e9d24",
   "metadata": {
    "id": "353e9d24"
   },
   "source": [
    "## 2. Is the conversion rate (the proportion of users who visit the landing page and get converted) for the new page greater than the conversion rate for the old page?"
   ]
  },
  {
   "cell_type": "markdown",
   "id": "73a7b74a-6d89-4c8d-a15b-4163fbbec248",
   "metadata": {},
   "source": [
    "### Perform Visual Analysis"
   ]
  },
  {
   "cell_type": "code",
   "execution_count": 28,
   "id": "67b2dfae-b522-4f77-915f-5bbcf18eccec",
   "metadata": {},
   "outputs": [
    {
     "data": {
      "image/png": "[encoded data removed]",
      "text/plain": [
       "<Figure size 400x300 with 1 Axes>"
      ]
     },
     "metadata": {},
     "output_type": "display_data"
    }
   ],
   "source": [
    "pd.crosstab(df['landing_page'],df['converted']).plot(kind=\"bar\", figsize=(4,3),stacked=True)\n",
    "plt.legend()\n",
    "plt.show()"
   ]
  },
  {
   "cell_type": "markdown",
   "id": "994618ed-712a-4c00-8a5a-f0271707e559",
   "metadata": {},
   "source": [
    "**Observation**\n",
    "\n",
    "- Bar graph suggests that conversion rate is high for `new landing page` as compare to `old landing page` \n",
    "\n",
    "**This infer that users find the new design and layout more engaging and so the conversion rate is high for users visiting the new landing page.**\n",
    "\n",
    "**However** it is too early to conclude that. So, lets do a `statistical test`."
   ]
  },
  {
   "cell_type": "markdown",
   "id": "e9a77836-f478-4ecd-bc1c-b378b4f0e5df",
   "metadata": {},
   "source": [
    "### Step 1: Define the null and alternate hypotheses"
   ]
  },
  {
   "cell_type": "markdown",
   "id": "cf627b5d-1519-4864-a711-043dc624570d",
   "metadata": {},
   "source": [
    "The null hypothesis ($H_0$) always represents the status quo or no effect scenario. Lets assume **`𝑝_𝑛ew`** be the conversion rate for the new landing page and **`p_old`** be the conversion rate for the old landing page.\n",
    "\n",
    "* Null Hypothesis $H_0:$ The conversion rate for the new page is less than or equal to the conversion rate for the old page.\n",
    "  **p_new $\\leq$ p_old**\n",
    "\n",
    "* Alternative Hypothesis $H_a:$ The conversion rate for the new page is greater than the conversion rate for the old page.\n",
    "  **p_new $\\gt$ p_old**\n",
    "\n",
    "* Since alternative hypothesis is greater than type, its a one-tailed test."
   ]
  },
  {
   "cell_type": "markdown",
   "id": "255cf36c-7fb9-43a5-975c-f99e581c3469",
   "metadata": {},
   "source": [
    "### Step 2: Select Appropriate test\n",
    "Is the conversion rate (the proportion of users who visit the landing page and get converted) for the new page greater than the conversion rate for the old page?\n",
    "\n",
    "**Lets identify the appropriate test based on the hypothesis framework**\n",
    "* Independent populations - as we are taking random samples for two different type of users, the two samples are from `two independent populations`.\n",
    "* Compare the sample **`proportions`** from two populations - yes.  \n",
    "* Observations are from a `simple random sample` - Yes, we are informed that the collected sample a simple random sample (`Refer to the FAQ section of the project`)\n",
    "\n",
    "**We can use 2-propotional z-test to address the problem**\n",
    "\n"
   ]
  },
  {
   "cell_type": "markdown",
   "id": "c48ef1fc-e4a1-4a89-a10e-224d56a4ad78",
   "metadata": {},
   "source": [
    "### Step 3: Decide the significance level\n",
    "Based on the problem statement, it is given that the level of significance aka $\\alpha = 0.05$."
   ]
  },
  {
   "cell_type": "code",
   "execution_count": 29,
   "id": "5765fbce-1d34-4686-a05b-36d7c7c94c82",
   "metadata": {},
   "outputs": [],
   "source": [
    "# set level of signifiance aka alpha to 0.05 (given)\n",
    "alpha = 0.05"
   ]
  },
  {
   "cell_type": "markdown",
   "id": "d14868c5-ce12-461b-b945-a9688e487580",
   "metadata": {},
   "source": [
    "### Step 4: Collect and prepare data"
   ]
  },
  {
   "cell_type": "markdown",
   "id": "b819e6fa-21bb-4c22-842f-01473cbc6fe5",
   "metadata": {},
   "source": [
    "#### Perform Descriptive Analysis\n",
    "**`landing_page` and `converted` both are categorical** <br>\n",
    "\n",
    "**--> Treatment Group --> New Landing_page --> converted --> yes** <br>\n",
    "**--> Control Group   --> Old Landing_page --> converted --> yes** <br>\n",
    "\n",
    "\n",
    "**Find the Proportion Rate Conversion for new landing page (`Treatment Group`) and old landing page (`Control Group`)** "
   ]
  },
  {
   "cell_type": "code",
   "execution_count": 30,
   "id": "d2e070a7-6541-42e9-bdfc-410041ffc1cd",
   "metadata": {},
   "outputs": [
    {
     "name": "stdout",
     "output_type": "stream",
     "text": [
      "Cross Tab : Converted vs Landing Page\n",
      "================================================================================\n",
      "converted     no  yes\n",
      "landing_page         \n",
      "new           17   33\n",
      "old           29   21\n",
      "================================================================================\n",
      "Discriptive Analysis                                                    Value\n",
      "================================================================================\n",
      "Number of users served (New Page)                                      : 50\n",
      "Number of users served (Old Page)                                      : 50\n",
      "Users converted in 'Treatment' (New Page)                              : 33\n",
      "Users converted in 'Control' (Old Page)                                : 21\n",
      "Conversion rate for new landing page users in 'Treatment' group        : 0.66\n",
      "Conversion rate for old landing page users in 'Control' group          : 0.42\n"
     ]
    }
   ],
   "source": [
    "# crosstab between 'landing_page' and 'converted'\n",
    "crosstab_result = pd.crosstab(df['landing_page'], df['converted'])\n",
    "print(\"Cross Tab : Converted vs Landing Page\")\n",
    "print(\"=\" * 80)\n",
    "print(crosstab_result.to_string())\n",
    "\n",
    "#calculate the number of converted users in the treatment group\n",
    "new_converted = df[df['group'] == 'treatment']['converted'].value_counts()['yes']\n",
    "\n",
    "# calculate the number of converted users in the control group\n",
    "old_converted = df[df['group'] == 'control']['converted'].value_counts()['yes'] \n",
    "\n",
    "# total number of users in the treatment group\n",
    "n_treatment = df.group.value_counts()['treatment'] \n",
    "\n",
    "# total number of users in the control group\n",
    "n_control = df.group.value_counts()['control']\n",
    "\n",
    "# proportion rate conversion for users visiting new landing page\n",
    "proportion_rate_conversion_new_user = new_converted / n_treatment\n",
    "\n",
    "# proportion rate conversion for users visiting old landing page\n",
    "proportion_rate_conversion_old_user = old_converted / n_control\n",
    "\n",
    "print(\"=\" * 80)\n",
    "print(f\"{'Discriptive Analysis':<72}{'Value'}\")\n",
    "print(\"=\" * 80)\n",
    "print(f\"Number of users served (New Page)                                      : {n_treatment:,}\")\n",
    "print(f\"Number of users served (Old Page)                                      : {n_control:,}\")\n",
    "print(f\"Users converted in 'Treatment' (New Page)                              : {new_converted:,}\")\n",
    "print(f\"Users converted in 'Control' (Old Page)                                : {old_converted:,}\")\n",
    "print(f\"Conversion rate for new landing page users in 'Treatment' group        : {proportion_rate_conversion_new_user:.2f}\")\n",
    "print(f\"Conversion rate for old landing page users in 'Control' group          : {proportion_rate_conversion_old_user:.2f}\")\n"
   ]
  },
  {
   "cell_type": "markdown",
   "id": "31a7acb3-0172-460a-8790-78e9f9f63a33",
   "metadata": {},
   "source": [
    "**Observation**\n",
    "\n",
    "Descriptive analysis shows that conversion rate is higher for treatment group compare to control group, further suggest the new landing page is more engaging to the users and hence, leading to higher conversion rate. "
   ]
  },
  {
   "cell_type": "markdown",
   "id": "504a7a78-6884-4a90-a3af-79c15f723b73",
   "metadata": {},
   "source": [
    "### Step 5: Calculate the p-value"
   ]
  },
  {
   "cell_type": "code",
   "execution_count": 31,
   "id": "79208f9c-8107-4014-9eb3-266b49b9df47",
   "metadata": {},
   "outputs": [
    {
     "name": "stdout",
     "output_type": "stream",
     "text": [
      "The p-value is 0.008026308204056278\n"
     ]
    }
   ],
   "source": [
    "# import the required function for proportion_ztest\n",
    "from statsmodels.stats.proportion import proportions_ztest\n",
    "\n",
    "# calculate the p-value\n",
    "test_stat, p_value = proportions_ztest([new_converted, old_converted] , [n_treatment, n_control], alternative = 'larger')\n",
    "\n",
    "print('The p-value is', p_value)"
   ]
  },
  {
   "cell_type": "markdown",
   "id": "923574b7-cd16-4365-a8a8-897ace9a4a89",
   "metadata": {},
   "source": [
    "### Step 6: Compare the p-value with $\\alpha$"
   ]
  },
  {
   "cell_type": "code",
   "execution_count": 32,
   "id": "4513e0a8-1957-421b-919b-6e7642284340",
   "metadata": {},
   "outputs": [
    {
     "name": "stdout",
     "output_type": "stream",
     "text": [
      "========================================================================================================================\n",
      "As the p-value 0.008026308204056278 is less than the level of significance, we reject the null hypothesis.\n",
      "========================================================================================================================\n"
     ]
    }
   ],
   "source": [
    "print(\"=\" * 120)\n",
    "if p_value < alpha:\n",
    "    print(f'As the p-value {p_value} is less than the level of significance, we reject the null hypothesis.')\n",
    "else:\n",
    "    print(f'As the p-value {p_value} is greater than the level of significance, we fail to reject the null hypothesis.')\n",
    "print(\"=\" * 120)"
   ]
  },
  {
   "cell_type": "markdown",
   "id": "1d68f8a4-2959-4e1c-83d4-311a1825896a",
   "metadata": {},
   "source": [
    "### Step 7:  Draw inference\n",
    "\n",
    "- Since we reject the null hypothesis ($H_0$), this means that there is strong statistical evidence to support the claim that the conversion rate for new landing page is higher than that of old landing page. The `p-value` of `0.008` indicates that the probability of observing this result under the assumption that the null hypothesis is true is `very low (0.8%)`.  \n",
    "\n",
    "- Therefore, based on the one-tailed proportions_ztest, we can conclude with 99.2% confidence that the new landing page leads to higher user engagement in terms of conversion rate compare to the old landing page.\n"
   ]
  },
  {
   "cell_type": "markdown",
   "id": "d49bfa2d",
   "metadata": {
    "id": "d49bfa2d"
   },
   "source": [
    "## 3. Is the conversion and preferred language are independent or related?"
   ]
  },
  {
   "cell_type": "markdown",
   "id": "f709a179-4401-4eb5-83c4-1860fc25c936",
   "metadata": {
    "id": "b0e63f17"
   },
   "source": [
    "### Perform Visual Analysis"
   ]
  },
  {
   "cell_type": "code",
   "execution_count": 33,
   "id": "4f75e8dd-47b8-4ef7-8005-15ecb516f283",
   "metadata": {},
   "outputs": [
    {
     "data": {
      "image/png": "[encoded data removed]",
      "text/plain": [
       "<Figure size 1300x300 with 1 Axes>"
      ]
     },
     "metadata": {},
     "output_type": "display_data"
    }
   ],
   "source": [
    "# complete the code to visually plot the dependency between conversion status and preferred langauge\n",
    "pd.crosstab(df['language_preferred'],df['converted']).plot(kind=\"bar\", figsize=(13,3), stacked=True)\n",
    "plt.legend()\n",
    "plt.show()"
   ]
  },
  {
   "cell_type": "markdown",
   "id": "5ac28e61-1169-4d49-9795-5a04d2b1692a",
   "metadata": {},
   "source": [
    "**Observation**\n",
    "\n",
    "- Bar graph suggests that conversion rate is high for `English`, followed by `Spanish` and `French`  \n",
    "\n",
    "**This suggests that users who prefer English have a higher conversion rate, followed by Spanish and French. Therefore, it is likely that the preferred language directly influences the conversion rate, indicating that conversion and preferred language are dependent.**\n",
    "\n",
    "**However** it is too early to conclude that. So, lets do a `statistical test`."
   ]
  },
  {
   "cell_type": "markdown",
   "id": "7c1b1129-869c-42c4-84e2-e8d2242896e3",
   "metadata": {},
   "source": [
    "### Step 1: Define the null and alternate hypotheses"
   ]
  },
  {
   "cell_type": "markdown",
   "id": "5ee75e7f-67bc-4b6c-95a9-ba6d861b4514",
   "metadata": {},
   "source": [
    "The null hypothesis ($H_0$) always represents the status quo or no effect scenario.  \n",
    "\n",
    "* Null Hypothesis $H_0:$ The conversion rate is independent of preferred language.\n",
    "\n",
    "* Alternative Hypothesis $H_a:$  The conversion rate is NOT independent of preferred language.\n",
    "\n",
    "* Since alternative hypothesis is about to see if conversion rate and preferred language are related, without specifying the direction of the relationship, its a two-tailed test."
   ]
  },
  {
   "cell_type": "markdown",
   "id": "f5749ce7-d610-48aa-bb93-19b5fd822f4a",
   "metadata": {},
   "source": [
    "### Step 2: Select Appropriate test\n",
    "Is the conversion and preferred language are independent or related?\n",
    "\n",
    "**Lets identify the appropriate test based on the hypothesis framework** \n",
    "\n",
    "The formulated hypotheses can be tested using a Chi-square test of independence of attributes, concerning the two categorical variables, `converted (yes/no)` and `language_preferred (english/french/spanish)`."
   ]
  },
  {
   "cell_type": "markdown",
   "id": "b970a0b5-5707-463a-9109-8c56d9fb54dc",
   "metadata": {},
   "source": [
    "### Step 3: Decide the significance level"
   ]
  },
  {
   "cell_type": "markdown",
   "id": "3d1118c4-79b4-4540-9aea-652aa823eaed",
   "metadata": {},
   "source": [
    "Based on the problem statement, it is given that the level of significance aka $\\alpha = 0.05$."
   ]
  },
  {
   "cell_type": "code",
   "execution_count": 34,
   "id": "08511352-ecc2-4690-959a-6280775df56b",
   "metadata": {},
   "outputs": [],
   "source": [
    "# set level of signifiance aka alpha to 0.05 (given)\n",
    "alpha = 0.05"
   ]
  },
  {
   "cell_type": "markdown",
   "id": "59f107da-faa2-46fb-a5d9-6d75269aba2e",
   "metadata": {},
   "source": [
    "### Step 4: Collect and prepare data"
   ]
  },
  {
   "cell_type": "code",
   "execution_count": 35,
   "id": "39d1e32b-1741-4931-8e0b-6ac108fd9e53",
   "metadata": {},
   "outputs": [
    {
     "name": "stdout",
     "output_type": "stream",
     "text": [
      "converted           no  yes\n",
      "language_preferred         \n",
      "English             11   21\n",
      "French              19   15\n",
      "Spanish             16   18\n"
     ]
    }
   ],
   "source": [
    "# create a contingency table of the two categorical variables\n",
    "contingency_table = pd.crosstab(df['language_preferred'],df['converted'])\n",
    "print(contingency_table.to_string())"
   ]
  },
  {
   "cell_type": "markdown",
   "id": "e39d3b67-9604-4c1d-97db-a287f0c02904",
   "metadata": {},
   "source": [
    "### Step 5: Calculate the p-value"
   ]
  },
  {
   "cell_type": "code",
   "execution_count": 36,
   "id": "1fe6827b-5038-4b88-9dbb-91be0fe3dbbb",
   "metadata": {},
   "outputs": [
    {
     "name": "stdout",
     "output_type": "stream",
     "text": [
      "The p-value is 0.2129888748754345\n"
     ]
    }
   ],
   "source": [
    "from scipy.stats import chi2_contingency\n",
    "\n",
    "# calculate the p-value\n",
    "chi2, p_value, dof, exp_freq = chi2_contingency(contingency_table) \n",
    "\n",
    "print('The p-value is', p_value)"
   ]
  },
  {
   "cell_type": "markdown",
   "id": "697110f7-c774-4239-a0cc-e9b207d6e49f",
   "metadata": {},
   "source": [
    "### Step 6: Compare the p-value with $\\alpha$"
   ]
  },
  {
   "cell_type": "code",
   "execution_count": 37,
   "id": "e1f2f0dc-3d4b-466f-b922-3fb40df7f712",
   "metadata": {},
   "outputs": [
    {
     "name": "stdout",
     "output_type": "stream",
     "text": [
      "========================================================================================================================\n",
      "As the p-value 0.2129888748754345 is greater than the level of significance, we fail to reject the null hypothesis.\n",
      "========================================================================================================================\n"
     ]
    }
   ],
   "source": [
    "print(\"=\" * 120)\n",
    "if p_value < alpha:\n",
    "    print(f'As the p-value {p_value} is less than the level of significance, we reject the null hypothesis.')\n",
    "else:\n",
    "    print(f'As the p-value {p_value} is greater than the level of significance, we fail to reject the null hypothesis.')\n",
    "print(\"=\" * 120)"
   ]
  },
  {
   "cell_type": "markdown",
   "id": "a33d9c5a-038e-4bc9-b50a-32567208d958",
   "metadata": {},
   "source": [
    "### Step 7:  Draw inference"
   ]
  },
  {
   "cell_type": "markdown",
   "id": "78ae5f46-ee74-4fb1-9687-78cdfead8c89",
   "metadata": {},
   "source": [
    "- We fail to reject the null hypothesis with a significance level of 0.05, which means we don't have strong evidence to suggest that conversion and preferred language are dependent.\n",
    "- Failing to reject the null hypothesis does not mean the null hypothesis is true, but that there is not enough evidence to prove the relationship."
   ]
  },
  {
   "cell_type": "markdown",
   "id": "8d585a90",
   "metadata": {
    "id": "8d585a90"
   },
   "source": [
    "## 4. Is the time spent on the new page same for the different language users?"
   ]
  },
  {
   "cell_type": "markdown",
   "id": "5a556889-d34a-44c9-818e-2f89ffcaa278",
   "metadata": {
    "id": "b422f395"
   },
   "source": [
    "### Perform Visual Analysis\n",
    "\n",
    "- Need to findout the time spent on the new page for different language users\n",
    "- create a data frame for users who got served the new landing page"
   ]
  },
  {
   "cell_type": "code",
   "execution_count": 38,
   "id": "0eabdd53-0aef-46cf-8cc3-c3b86ad7116c",
   "metadata": {},
   "outputs": [
    {
     "data": {
      "text/html": [
       "<div>\n",
       "<style scoped>\n",
       "    .dataframe tbody tr th:only-of-type {\n",
       "        vertical-align: middle;\n",
       "    }\n",
       "\n",
       "    .dataframe tbody tr th {\n",
       "        vertical-align: top;\n",
       "    }\n",
       "\n",
       "    .dataframe thead th {\n",
       "        text-align: right;\n",
       "    }\n",
       "</style>\n",
       "<table border=\"1\" class=\"dataframe\">\n",
       "  <thead>\n",
       "    <tr style=\"text-align: right;\">\n",
       "      <th></th>\n",
       "      <th>user_id</th>\n",
       "      <th>group</th>\n",
       "      <th>landing_page</th>\n",
       "      <th>time_spent_on_the_page</th>\n",
       "      <th>converted</th>\n",
       "      <th>language_preferred</th>\n",
       "    </tr>\n",
       "  </thead>\n",
       "  <tbody>\n",
       "    <tr>\n",
       "      <th>1</th>\n",
       "      <td>546468</td>\n",
       "      <td>treatment</td>\n",
       "      <td>new</td>\n",
       "      <td>7.13</td>\n",
       "      <td>yes</td>\n",
       "      <td>English</td>\n",
       "    </tr>\n",
       "    <tr>\n",
       "      <th>2</th>\n",
       "      <td>546462</td>\n",
       "      <td>treatment</td>\n",
       "      <td>new</td>\n",
       "      <td>4.40</td>\n",
       "      <td>no</td>\n",
       "      <td>Spanish</td>\n",
       "    </tr>\n",
       "    <tr>\n",
       "      <th>4</th>\n",
       "      <td>546459</td>\n",
       "      <td>treatment</td>\n",
       "      <td>new</td>\n",
       "      <td>4.75</td>\n",
       "      <td>yes</td>\n",
       "      <td>Spanish</td>\n",
       "    </tr>\n",
       "    <tr>\n",
       "      <th>6</th>\n",
       "      <td>546448</td>\n",
       "      <td>treatment</td>\n",
       "      <td>new</td>\n",
       "      <td>5.25</td>\n",
       "      <td>yes</td>\n",
       "      <td>French</td>\n",
       "    </tr>\n",
       "    <tr>\n",
       "      <th>8</th>\n",
       "      <td>546461</td>\n",
       "      <td>treatment</td>\n",
       "      <td>new</td>\n",
       "      <td>10.71</td>\n",
       "      <td>yes</td>\n",
       "      <td>French</td>\n",
       "    </tr>\n",
       "    <tr>\n",
       "      <th>12</th>\n",
       "      <td>546491</td>\n",
       "      <td>treatment</td>\n",
       "      <td>new</td>\n",
       "      <td>5.86</td>\n",
       "      <td>yes</td>\n",
       "      <td>Spanish</td>\n",
       "    </tr>\n",
       "    <tr>\n",
       "      <th>13</th>\n",
       "      <td>546478</td>\n",
       "      <td>treatment</td>\n",
       "      <td>new</td>\n",
       "      <td>6.03</td>\n",
       "      <td>yes</td>\n",
       "      <td>French</td>\n",
       "    </tr>\n",
       "    <tr>\n",
       "      <th>15</th>\n",
       "      <td>546466</td>\n",
       "      <td>treatment</td>\n",
       "      <td>new</td>\n",
       "      <td>6.27</td>\n",
       "      <td>yes</td>\n",
       "      <td>Spanish</td>\n",
       "    </tr>\n",
       "    <tr>\n",
       "      <th>16</th>\n",
       "      <td>546443</td>\n",
       "      <td>treatment</td>\n",
       "      <td>new</td>\n",
       "      <td>8.73</td>\n",
       "      <td>no</td>\n",
       "      <td>English</td>\n",
       "    </tr>\n",
       "    <tr>\n",
       "      <th>22</th>\n",
       "      <td>546450</td>\n",
       "      <td>treatment</td>\n",
       "      <td>new</td>\n",
       "      <td>3.65</td>\n",
       "      <td>no</td>\n",
       "      <td>English</td>\n",
       "    </tr>\n",
       "    <tr>\n",
       "      <th>23</th>\n",
       "      <td>546475</td>\n",
       "      <td>treatment</td>\n",
       "      <td>new</td>\n",
       "      <td>7.02</td>\n",
       "      <td>yes</td>\n",
       "      <td>English</td>\n",
       "    </tr>\n",
       "    <tr>\n",
       "      <th>24</th>\n",
       "      <td>546456</td>\n",
       "      <td>treatment</td>\n",
       "      <td>new</td>\n",
       "      <td>6.18</td>\n",
       "      <td>no</td>\n",
       "      <td>Spanish</td>\n",
       "    </tr>\n",
       "    <tr>\n",
       "      <th>25</th>\n",
       "      <td>546455</td>\n",
       "      <td>treatment</td>\n",
       "      <td>new</td>\n",
       "      <td>4.39</td>\n",
       "      <td>no</td>\n",
       "      <td>English</td>\n",
       "    </tr>\n",
       "    <tr>\n",
       "      <th>26</th>\n",
       "      <td>546469</td>\n",
       "      <td>treatment</td>\n",
       "      <td>new</td>\n",
       "      <td>9.49</td>\n",
       "      <td>yes</td>\n",
       "      <td>English</td>\n",
       "    </tr>\n",
       "    <tr>\n",
       "      <th>28</th>\n",
       "      <td>546471</td>\n",
       "      <td>treatment</td>\n",
       "      <td>new</td>\n",
       "      <td>7.81</td>\n",
       "      <td>yes</td>\n",
       "      <td>French</td>\n",
       "    </tr>\n",
       "    <tr>\n",
       "      <th>30</th>\n",
       "      <td>546464</td>\n",
       "      <td>treatment</td>\n",
       "      <td>new</td>\n",
       "      <td>5.41</td>\n",
       "      <td>yes</td>\n",
       "      <td>English</td>\n",
       "    </tr>\n",
       "    <tr>\n",
       "      <th>38</th>\n",
       "      <td>546487</td>\n",
       "      <td>treatment</td>\n",
       "      <td>new</td>\n",
       "      <td>1.65</td>\n",
       "      <td>no</td>\n",
       "      <td>Spanish</td>\n",
       "    </tr>\n",
       "    <tr>\n",
       "      <th>42</th>\n",
       "      <td>546489</td>\n",
       "      <td>treatment</td>\n",
       "      <td>new</td>\n",
       "      <td>7.16</td>\n",
       "      <td>yes</td>\n",
       "      <td>Spanish</td>\n",
       "    </tr>\n",
       "    <tr>\n",
       "      <th>43</th>\n",
       "      <td>546453</td>\n",
       "      <td>treatment</td>\n",
       "      <td>new</td>\n",
       "      <td>7.16</td>\n",
       "      <td>yes</td>\n",
       "      <td>English</td>\n",
       "    </tr>\n",
       "    <tr>\n",
       "      <th>44</th>\n",
       "      <td>546488</td>\n",
       "      <td>treatment</td>\n",
       "      <td>new</td>\n",
       "      <td>3.91</td>\n",
       "      <td>no</td>\n",
       "      <td>English</td>\n",
       "    </tr>\n",
       "    <tr>\n",
       "      <th>46</th>\n",
       "      <td>546460</td>\n",
       "      <td>treatment</td>\n",
       "      <td>new</td>\n",
       "      <td>5.37</td>\n",
       "      <td>yes</td>\n",
       "      <td>French</td>\n",
       "    </tr>\n",
       "    <tr>\n",
       "      <th>47</th>\n",
       "      <td>546458</td>\n",
       "      <td>treatment</td>\n",
       "      <td>new</td>\n",
       "      <td>7.23</td>\n",
       "      <td>yes</td>\n",
       "      <td>Spanish</td>\n",
       "    </tr>\n",
       "    <tr>\n",
       "      <th>48</th>\n",
       "      <td>546492</td>\n",
       "      <td>treatment</td>\n",
       "      <td>new</td>\n",
       "      <td>8.08</td>\n",
       "      <td>yes</td>\n",
       "      <td>Spanish</td>\n",
       "    </tr>\n",
       "    <tr>\n",
       "      <th>49</th>\n",
       "      <td>546473</td>\n",
       "      <td>treatment</td>\n",
       "      <td>new</td>\n",
       "      <td>10.50</td>\n",
       "      <td>yes</td>\n",
       "      <td>English</td>\n",
       "    </tr>\n",
       "    <tr>\n",
       "      <th>51</th>\n",
       "      <td>546457</td>\n",
       "      <td>treatment</td>\n",
       "      <td>new</td>\n",
       "      <td>5.65</td>\n",
       "      <td>no</td>\n",
       "      <td>English</td>\n",
       "    </tr>\n",
       "    <tr>\n",
       "      <th>52</th>\n",
       "      <td>546479</td>\n",
       "      <td>treatment</td>\n",
       "      <td>new</td>\n",
       "      <td>6.47</td>\n",
       "      <td>yes</td>\n",
       "      <td>Spanish</td>\n",
       "    </tr>\n",
       "    <tr>\n",
       "      <th>54</th>\n",
       "      <td>546482</td>\n",
       "      <td>treatment</td>\n",
       "      <td>new</td>\n",
       "      <td>6.41</td>\n",
       "      <td>yes</td>\n",
       "      <td>Spanish</td>\n",
       "    </tr>\n",
       "    <tr>\n",
       "      <th>57</th>\n",
       "      <td>546454</td>\n",
       "      <td>treatment</td>\n",
       "      <td>new</td>\n",
       "      <td>8.30</td>\n",
       "      <td>yes</td>\n",
       "      <td>French</td>\n",
       "    </tr>\n",
       "    <tr>\n",
       "      <th>60</th>\n",
       "      <td>546470</td>\n",
       "      <td>treatment</td>\n",
       "      <td>new</td>\n",
       "      <td>6.01</td>\n",
       "      <td>yes</td>\n",
       "      <td>French</td>\n",
       "    </tr>\n",
       "    <tr>\n",
       "      <th>61</th>\n",
       "      <td>546467</td>\n",
       "      <td>treatment</td>\n",
       "      <td>new</td>\n",
       "      <td>6.79</td>\n",
       "      <td>yes</td>\n",
       "      <td>French</td>\n",
       "    </tr>\n",
       "    <tr>\n",
       "      <th>65</th>\n",
       "      <td>546445</td>\n",
       "      <td>treatment</td>\n",
       "      <td>new</td>\n",
       "      <td>7.27</td>\n",
       "      <td>yes</td>\n",
       "      <td>French</td>\n",
       "    </tr>\n",
       "    <tr>\n",
       "      <th>68</th>\n",
       "      <td>546484</td>\n",
       "      <td>treatment</td>\n",
       "      <td>new</td>\n",
       "      <td>6.70</td>\n",
       "      <td>no</td>\n",
       "      <td>Spanish</td>\n",
       "    </tr>\n",
       "    <tr>\n",
       "      <th>71</th>\n",
       "      <td>546476</td>\n",
       "      <td>treatment</td>\n",
       "      <td>new</td>\n",
       "      <td>5.42</td>\n",
       "      <td>yes</td>\n",
       "      <td>French</td>\n",
       "    </tr>\n",
       "    <tr>\n",
       "      <th>72</th>\n",
       "      <td>546452</td>\n",
       "      <td>treatment</td>\n",
       "      <td>new</td>\n",
       "      <td>5.08</td>\n",
       "      <td>yes</td>\n",
       "      <td>English</td>\n",
       "    </tr>\n",
       "    <tr>\n",
       "      <th>73</th>\n",
       "      <td>546444</td>\n",
       "      <td>treatment</td>\n",
       "      <td>new</td>\n",
       "      <td>7.46</td>\n",
       "      <td>yes</td>\n",
       "      <td>English</td>\n",
       "    </tr>\n",
       "    <tr>\n",
       "      <th>77</th>\n",
       "      <td>546485</td>\n",
       "      <td>treatment</td>\n",
       "      <td>new</td>\n",
       "      <td>3.88</td>\n",
       "      <td>no</td>\n",
       "      <td>Spanish</td>\n",
       "    </tr>\n",
       "    <tr>\n",
       "      <th>78</th>\n",
       "      <td>546486</td>\n",
       "      <td>treatment</td>\n",
       "      <td>new</td>\n",
       "      <td>9.12</td>\n",
       "      <td>yes</td>\n",
       "      <td>French</td>\n",
       "    </tr>\n",
       "    <tr>\n",
       "      <th>80</th>\n",
       "      <td>546490</td>\n",
       "      <td>treatment</td>\n",
       "      <td>new</td>\n",
       "      <td>4.68</td>\n",
       "      <td>no</td>\n",
       "      <td>French</td>\n",
       "    </tr>\n",
       "    <tr>\n",
       "      <th>81</th>\n",
       "      <td>546449</td>\n",
       "      <td>treatment</td>\n",
       "      <td>new</td>\n",
       "      <td>5.26</td>\n",
       "      <td>yes</td>\n",
       "      <td>French</td>\n",
       "    </tr>\n",
       "    <tr>\n",
       "      <th>82</th>\n",
       "      <td>546463</td>\n",
       "      <td>treatment</td>\n",
       "      <td>new</td>\n",
       "      <td>5.74</td>\n",
       "      <td>yes</td>\n",
       "      <td>Spanish</td>\n",
       "    </tr>\n",
       "    <tr>\n",
       "      <th>86</th>\n",
       "      <td>546465</td>\n",
       "      <td>treatment</td>\n",
       "      <td>new</td>\n",
       "      <td>6.71</td>\n",
       "      <td>no</td>\n",
       "      <td>English</td>\n",
       "    </tr>\n",
       "    <tr>\n",
       "      <th>87</th>\n",
       "      <td>546480</td>\n",
       "      <td>treatment</td>\n",
       "      <td>new</td>\n",
       "      <td>3.68</td>\n",
       "      <td>no</td>\n",
       "      <td>French</td>\n",
       "    </tr>\n",
       "    <tr>\n",
       "      <th>88</th>\n",
       "      <td>546447</td>\n",
       "      <td>treatment</td>\n",
       "      <td>new</td>\n",
       "      <td>3.30</td>\n",
       "      <td>no</td>\n",
       "      <td>French</td>\n",
       "    </tr>\n",
       "    <tr>\n",
       "      <th>90</th>\n",
       "      <td>546477</td>\n",
       "      <td>treatment</td>\n",
       "      <td>new</td>\n",
       "      <td>5.40</td>\n",
       "      <td>no</td>\n",
       "      <td>French</td>\n",
       "    </tr>\n",
       "    <tr>\n",
       "      <th>91</th>\n",
       "      <td>546451</td>\n",
       "      <td>treatment</td>\n",
       "      <td>new</td>\n",
       "      <td>8.47</td>\n",
       "      <td>yes</td>\n",
       "      <td>English</td>\n",
       "    </tr>\n",
       "    <tr>\n",
       "      <th>93</th>\n",
       "      <td>546474</td>\n",
       "      <td>treatment</td>\n",
       "      <td>new</td>\n",
       "      <td>4.94</td>\n",
       "      <td>no</td>\n",
       "      <td>French</td>\n",
       "    </tr>\n",
       "    <tr>\n",
       "      <th>95</th>\n",
       "      <td>546446</td>\n",
       "      <td>treatment</td>\n",
       "      <td>new</td>\n",
       "      <td>5.15</td>\n",
       "      <td>no</td>\n",
       "      <td>Spanish</td>\n",
       "    </tr>\n",
       "    <tr>\n",
       "      <th>97</th>\n",
       "      <td>546472</td>\n",
       "      <td>treatment</td>\n",
       "      <td>new</td>\n",
       "      <td>7.07</td>\n",
       "      <td>yes</td>\n",
       "      <td>Spanish</td>\n",
       "    </tr>\n",
       "    <tr>\n",
       "      <th>98</th>\n",
       "      <td>546481</td>\n",
       "      <td>treatment</td>\n",
       "      <td>new</td>\n",
       "      <td>6.20</td>\n",
       "      <td>yes</td>\n",
       "      <td>Spanish</td>\n",
       "    </tr>\n",
       "    <tr>\n",
       "      <th>99</th>\n",
       "      <td>546483</td>\n",
       "      <td>treatment</td>\n",
       "      <td>new</td>\n",
       "      <td>5.86</td>\n",
       "      <td>yes</td>\n",
       "      <td>English</td>\n",
       "    </tr>\n",
       "  </tbody>\n",
       "</table>\n",
       "</div>"
      ],
      "text/plain": [
       "    user_id      group landing_page  time_spent_on_the_page converted  \\\n",
       "1    546468  treatment          new                    7.13       yes   \n",
       "2    546462  treatment          new                    4.40        no   \n",
       "4    546459  treatment          new                    4.75       yes   \n",
       "6    546448  treatment          new                    5.25       yes   \n",
       "8    546461  treatment          new                   10.71       yes   \n",
       "12   546491  treatment          new                    5.86       yes   \n",
       "13   546478  treatment          new                    6.03       yes   \n",
       "15   546466  treatment          new                    6.27       yes   \n",
       "16   546443  treatment          new                    8.73        no   \n",
       "22   546450  treatment          new                    3.65        no   \n",
       "23   546475  treatment          new                    7.02       yes   \n",
       "24   546456  treatment          new                    6.18        no   \n",
       "25   546455  treatment          new                    4.39        no   \n",
       "26   546469  treatment          new                    9.49       yes   \n",
       "28   546471  treatment          new                    7.81       yes   \n",
       "30   546464  treatment          new                    5.41       yes   \n",
       "38   546487  treatment          new                    1.65        no   \n",
       "42   546489  treatment          new                    7.16       yes   \n",
       "43   546453  treatment          new                    7.16       yes   \n",
       "44   546488  treatment          new                    3.91        no   \n",
       "46   546460  treatment          new                    5.37       yes   \n",
       "47   546458  treatment          new                    7.23       yes   \n",
       "48   546492  treatment          new                    8.08       yes   \n",
       "49   546473  treatment          new                   10.50       yes   \n",
       "51   546457  treatment          new                    5.65        no   \n",
       "52   546479  treatment          new                    6.47       yes   \n",
       "54   546482  treatment          new                    6.41       yes   \n",
       "57   546454  treatment          new                    8.30       yes   \n",
       "60   546470  treatment          new                    6.01       yes   \n",
       "61   546467  treatment          new                    6.79       yes   \n",
       "65   546445  treatment          new                    7.27       yes   \n",
       "68   546484  treatment          new                    6.70        no   \n",
       "71   546476  treatment          new                    5.42       yes   \n",
       "72   546452  treatment          new                    5.08       yes   \n",
       "73   546444  treatment          new                    7.46       yes   \n",
       "77   546485  treatment          new                    3.88        no   \n",
       "78   546486  treatment          new                    9.12       yes   \n",
       "80   546490  treatment          new                    4.68        no   \n",
       "81   546449  treatment          new                    5.26       yes   \n",
       "82   546463  treatment          new                    5.74       yes   \n",
       "86   546465  treatment          new                    6.71        no   \n",
       "87   546480  treatment          new                    3.68        no   \n",
       "88   546447  treatment          new                    3.30        no   \n",
       "90   546477  treatment          new                    5.40        no   \n",
       "91   546451  treatment          new                    8.47       yes   \n",
       "93   546474  treatment          new                    4.94        no   \n",
       "95   546446  treatment          new                    5.15        no   \n",
       "97   546472  treatment          new                    7.07       yes   \n",
       "98   546481  treatment          new                    6.20       yes   \n",
       "99   546483  treatment          new                    5.86       yes   \n",
       "\n",
       "   language_preferred  \n",
       "1             English  \n",
       "2             Spanish  \n",
       "4             Spanish  \n",
       "6              French  \n",
       "8              French  \n",
       "12            Spanish  \n",
       "13             French  \n",
       "15            Spanish  \n",
       "16            English  \n",
       "22            English  \n",
       "23            English  \n",
       "24            Spanish  \n",
       "25            English  \n",
       "26            English  \n",
       "28             French  \n",
       "30            English  \n",
       "38            Spanish  \n",
       "42            Spanish  \n",
       "43            English  \n",
       "44            English  \n",
       "46             French  \n",
       "47            Spanish  \n",
       "48            Spanish  \n",
       "49            English  \n",
       "51            English  \n",
       "52            Spanish  \n",
       "54            Spanish  \n",
       "57             French  \n",
       "60             French  \n",
       "61             French  \n",
       "65             French  \n",
       "68            Spanish  \n",
       "71             French  \n",
       "72            English  \n",
       "73            English  \n",
       "77            Spanish  \n",
       "78             French  \n",
       "80             French  \n",
       "81             French  \n",
       "82            Spanish  \n",
       "86            English  \n",
       "87             French  \n",
       "88             French  \n",
       "90             French  \n",
       "91            English  \n",
       "93             French  \n",
       "95            Spanish  \n",
       "97            Spanish  \n",
       "98            Spanish  \n",
       "99            English  "
      ]
     },
     "execution_count": 38,
     "metadata": {},
     "output_type": "execute_result"
    }
   ],
   "source": [
    "df_new = df[df['landing_page'] == 'new']\n",
    "df_new"
   ]
  },
  {
   "cell_type": "code",
   "execution_count": 39,
   "id": "c4d610bc-0d98-48bc-bd77-5bdf9666ec0a",
   "metadata": {},
   "outputs": [
    {
     "name": "stdout",
     "output_type": "stream",
     "text": [
      "Average time spent on the page by English-preferred users: 6.66 minutes\n",
      "Average time spent on the page by French-preferred users: 6.20 minutes\n",
      "Average time spent on the page by Spanish-preferred users: 5.84 minutes\n"
     ]
    }
   ],
   "source": [
    "# compute mean time_spent for English \n",
    "ts_english = df_new[df_new['language_preferred']==\"English\"]['time_spent_on_the_page']\n",
    "ts_english_mean = ts_english.mean()\n",
    "print(f\"Average time spent on the page by English-preferred users: {ts_english_mean:.2f} minutes\")\n",
    "\n",
    "# compute mean time_spent for French \n",
    "ts_french = df_new[df_new['language_preferred']==\"French\"]['time_spent_on_the_page']\n",
    "ts_french_mean = ts_french.mean()\n",
    "print(f\"Average time spent on the page by French-preferred users: {ts_french_mean:.2f} minutes\")\n",
    "\n",
    "# compute mean time_spent for Spanish \n",
    "ts_spanish = df_new[df_new['language_preferred']==\"Spanish\"]['time_spent_on_the_page'] \n",
    "ts_spanish_mean = ts_spanish.mean()\n",
    "print(f\"Average time spent on the page by Spanish-preferred users: {ts_spanish_mean:.2f} minutes\")"
   ]
  },
  {
   "cell_type": "code",
   "execution_count": 40,
   "id": "5bba1adc-605c-49d5-800b-e1548ee67da4",
   "metadata": {},
   "outputs": [
    {
     "data": {
      "image/png": "[encoded data removed]",
      "text/plain": [
       "<Figure size 800x400 with 1 Axes>"
      ]
     },
     "metadata": {},
     "output_type": "display_data"
    }
   ],
   "source": [
    "# Visual Analysis\n",
    "plt.figure(figsize=(8,4))\n",
    "sns.boxplot(\n",
    "    x='language_preferred', \n",
    "    y='time_spent_on_the_page', \n",
    "    data=df_new, \n",
    "    showmeans=True, \n",
    "    meanprops={\"marker\": \"o\", \"markerfacecolor\": \"red\", \"markeredgecolor\": \"black\", \"markersize\": 8}\n",
    ")\n",
    "plt.title('Language_Preferred vs. Time Spent');\n",
    "plt.show()"
   ]
  },
  {
   "cell_type": "markdown",
   "id": "1bb6c056-da9b-4c25-bd60-b265451a511c",
   "metadata": {},
   "source": [
    "**Observation**\n",
    "\n",
    "The box plot and descriptive analysis both indicate that users who prefer English spend the most time on average, followed by French and Spanish speakers. This suggests that average time spent varies across language preferences\n",
    "\n",
    "**However** it is too early to conclude that. So, lets do a `statistical test`."
   ]
  },
  {
   "cell_type": "markdown",
   "id": "48846bcc-64ee-4bfe-a098-44621950a0d6",
   "metadata": {},
   "source": [
    "### Step 1: Define the null and alternate hypotheses\n",
    "\n",
    "The null hypothesis ($H_0$) always represents the status quo or no effect scenario.  \n",
    "\n",
    "* Null Hypothesis $H_0:$ The mean time spent by all preferred language is same. $\\mu_{\\text{english}} = \\mu_{\\text{spanish}} = \\mu_{\\text{french}}$\n",
    "\n",
    "* Alternative Hypothesis $H_a:$  At least one mean is different from the others"
   ]
  },
  {
   "cell_type": "markdown",
   "id": "7f78736e-65de-422c-8913-3cec4ed0fdcc",
   "metadata": {},
   "source": [
    "### Step 2: Select Appropriate test\n",
    "\n",
    "**Since it is to compare the sample means from 2 or more independent populations, ANOVA test can be performed to address the problem**\n",
    "\n",
    "**ANOVA Test Assumptions:**\n",
    "\n",
    "- Samples are independent simple random samples. **Yes**, we are informed that the collected sample a simple random sample (`Refer to the FAQ section of the project`)\n",
    "- The populations are normally distributed - This can be verified using **Shapiro-Wilk’s** test\n",
    "- Population variances are equal - This can be verified using **Levene's** test"
   ]
  },
  {
   "cell_type": "markdown",
   "id": "4a4c471d-38bc-4757-9fb6-340ec15957ad",
   "metadata": {},
   "source": [
    "#### Shapiro-Wilk’s --> To test if populations are normally distributed"
   ]
  },
  {
   "cell_type": "markdown",
   "id": "65d74dc0-588e-4dd3-b43b-6a644f115b2a",
   "metadata": {},
   "source": [
    "We will test the null hypothesis\n",
    "\n",
    "$H_0:$ time_spent_on_the_page follows a normal distribution\n",
    "$H_a:$ time_spent_on_the_page does not follow a normal distribution"
   ]
  },
  {
   "cell_type": "markdown",
   "id": "cafab00d-4224-453c-a0f5-0eb3b4df0b4e",
   "metadata": {},
   "source": [
    "The shapiro() function of Scipy will be used to compute the test statistic and p-value."
   ]
  },
  {
   "cell_type": "code",
   "execution_count": 41,
   "id": "7c2773bc-c01f-4116-9e19-769b1afba679",
   "metadata": {},
   "outputs": [
    {
     "name": "stdout",
     "output_type": "stream",
     "text": [
      "The p-value is 0.8040016293525696\n",
      "========================================================================================================================\n",
      "As the p-value 0.8040016293525696 is greater than the level of significance, we fail to reject the null hypothesis.\n",
      "========================================================================================================================\n"
     ]
    }
   ],
   "source": [
    "# find the p-value\n",
    "w, p_value = stats.shapiro(df_new['time_spent_on_the_page']) \n",
    "print('The p-value is', p_value)\n",
    "\n",
    "# alpha = 0.05 (given)\n",
    "print(\"=\" * 120)\n",
    "if p_value < alpha:\n",
    "    print(f'As the p-value {p_value} is less than the level of significance, we reject the null hypothesis.')\n",
    "else:\n",
    "    print(f'As the p-value {p_value} is greater than the level of significance, we fail to reject the null hypothesis.')\n",
    "print(\"=\" * 120)"
   ]
  },
  {
   "cell_type": "markdown",
   "id": "dc8222e0-fd54-4e64-9276-ee2cd06ab6ff",
   "metadata": {},
   "source": [
    "**Observation** \n",
    "\n",
    "**Since p-value of the test is very large, we fail to reject the null hypothesis. It infers that the time_spent_on_the_page follows a normal distribution**"
   ]
  },
  {
   "cell_type": "markdown",
   "id": "1f0714ae-e8ac-4353-94e6-1f1e31ced6bc",
   "metadata": {},
   "source": [
    "#### Leneve’s --> Population variances are equal"
   ]
  },
  {
   "cell_type": "markdown",
   "id": "7e98099a-e345-47e9-8e86-f9a3e93cad9e",
   "metadata": {},
   "source": [
    "We will test the null hypothesis\n",
    "\n",
    "$H_0$: All the population variances are equal $H_a$: At least one variance is different from the rest"
   ]
  },
  {
   "cell_type": "markdown",
   "id": "ef76ed6b-f57d-45ca-a152-3e8b7cfa4fa7",
   "metadata": {},
   "source": [
    "The levene() function of Scipy will be used to compute the test statistic and p-value."
   ]
  },
  {
   "cell_type": "code",
   "execution_count": 42,
   "id": "262e2b43-a7af-4634-b098-8acff5ba7f6f",
   "metadata": {},
   "outputs": [
    {
     "name": "stdout",
     "output_type": "stream",
     "text": [
      "The p-value is 0.46711357711340173\n",
      "========================================================================================================================\n",
      "As the p-value 0.46711357711340173 is greater than the level of significance, we fail to reject the null hypothesis.\n",
      "========================================================================================================================\n"
     ]
    }
   ],
   "source": [
    "#import the levene function\n",
    "from scipy.stats import levene\n",
    "statistic, p_value = levene( df_new['time_spent_on_the_page'][df_new['language_preferred']==\"English\"], \n",
    "                                   df_new['time_spent_on_the_page'][df_new['language_preferred']==\"Spanish\"], \n",
    "                                   df_new['time_spent_on_the_page'][df_new['language_preferred']==\"French\"])\n",
    "# find the p-value\n",
    "print('The p-value is', p_value)\n",
    "\n",
    "# alpha = 0.05 (given)\n",
    "print(\"=\" * 120)\n",
    "if p_value < alpha:\n",
    "    print(f'As the p-value {p_value} is less than the level of significance, we reject the null hypothesis.')\n",
    "else:\n",
    "    print(f'As the p-value {p_value} is greater than the level of significance, we fail to reject the null hypothesis.')\n",
    "print(\"=\" * 120)"
   ]
  },
  {
   "cell_type": "markdown",
   "id": "c5a74049-87f4-4751-9c8d-35719e6023f6",
   "metadata": {},
   "source": [
    "**Observation** \n",
    "\n",
    "**Since p-value of the test is very large, we fail to reject the null hypothesis. It infers that All the population variances are equal**"
   ]
  },
  {
   "cell_type": "markdown",
   "id": "0e38350a-7944-4b91-bc1d-65cf90b67846",
   "metadata": {
    "jp-MarkdownHeadingCollapsed": true
   },
   "source": [
    "#### Step 2.1: Select Appropriate test --> Re-Validate all the assumptions based on the Shapiro-Wilk’s and Levene's test\n",
    "\n",
    "**Since it is to compare the sample means from 2 or more independent populations, ANOVA test can be performed to address the problem**\n",
    "\n",
    "**ANOVA Test Assumptions:**\n",
    "\n",
    "- Samples are independent simple random samples. **Yes**, we are informed that the collected sample a simple random sample (`Refer to the FAQ section of the project`)\n",
    "- The populations are normally distributed - **Yes**, Based on the **Shapiro-Wilk’s** test done above\n",
    "- Population variances are equal - **Yes**, Based on the **Levene's** test done above\n",
    "\n",
    "**This conclude that ANOVA Test can be performed** --> **Test Statistic Distribution** can be **One-way ANOVA F-test**"
   ]
  },
  {
   "cell_type": "markdown",
   "id": "9f00044c-55a2-4785-985e-db8fdaabd8be",
   "metadata": {},
   "source": [
    "### Step 3: Decide the significance level"
   ]
  },
  {
   "cell_type": "markdown",
   "id": "23fc92d1-8def-46ea-b051-ed6fdc81e19e",
   "metadata": {},
   "source": [
    "Based on the problem statement, it is given that the level of significance aka $\\alpha = 0.05$."
   ]
  },
  {
   "cell_type": "code",
   "execution_count": 43,
   "id": "9c68ba3a-ce69-4d31-a7ca-33be900c9991",
   "metadata": {},
   "outputs": [],
   "source": [
    "# set level of signifiance aka alpha to 0.05 (given)\n",
    "alpha = 0.05"
   ]
  },
  {
   "cell_type": "markdown",
   "id": "7b78b978-c29c-492f-a844-9702620d1a6e",
   "metadata": {},
   "source": [
    "### Step 4: Collect and prepare data"
   ]
  },
  {
   "cell_type": "code",
   "execution_count": 44,
   "id": "77c9ef71-76cb-4479-8af0-7ada6a828337",
   "metadata": {},
   "outputs": [
    {
     "name": "stdout",
     "output_type": "stream",
     "text": [
      "============================================================================================================================================\n",
      "Time Spent by English-preferred Users: [7.13, 8.73, 3.65, 7.02, 4.39, 9.49, 5.41, 7.16, 3.91, 10.5, 5.65, 5.08, 7.46, 6.71, 8.47, 5.86]\n",
      "============================================================================================================================================\n",
      "Time Spent by French-preferred Users: [5.25, 10.71, 6.03, 7.81, 5.37, 8.3, 6.01, 6.79, 7.27, 5.42, 9.12, 4.68, 5.26, 3.68, 3.3, 5.4, 4.94]\n",
      "============================================================================================================================================\n",
      "Time Spent by Spanish-preferred Users: [4.4, 4.75, 5.86, 6.27, 6.18, 1.65, 7.16, 7.23, 8.08, 6.47, 6.41, 6.7, 3.88, 5.74, 5.15, 7.07, 6.2]\n",
      "============================================================================================================================================\n"
     ]
    }
   ],
   "source": [
    "print(\"=\" * 140)\n",
    "print(\"Time Spent by English-preferred Users:\", list(ts_english))\n",
    "print(\"=\" * 140)\n",
    "print(\"Time Spent by French-preferred Users:\", list(ts_french))\n",
    "print(\"=\" * 140)\n",
    "print(\"Time Spent by Spanish-preferred Users:\", list(ts_spanish))\n",
    "print(\"=\" * 140)"
   ]
  },
  {
   "cell_type": "markdown",
   "id": "38896375-4b43-4abc-b24b-7166a28192f3",
   "metadata": {},
   "source": [
    "### Step 5: Calculate the p-value"
   ]
  },
  {
   "cell_type": "code",
   "execution_count": 45,
   "id": "7c05c65f-bb63-4eaa-8279-f2e8e4d2cefb",
   "metadata": {},
   "outputs": [
    {
     "name": "stdout",
     "output_type": "stream",
     "text": [
      "The p-value is 0.43204138694325955\n"
     ]
    }
   ],
   "source": [
    "# import f_oneway\n",
    "from scipy.stats import f_oneway\n",
    "\n",
    "# calculate p_value\n",
    "test_stat, p_value = f_oneway(ts_english, ts_french, ts_spanish) \n",
    "\n",
    "print('The p-value is', p_value)"
   ]
  },
  {
   "cell_type": "markdown",
   "id": "c18b995c-35ff-4420-b86c-8d5fba12c6d2",
   "metadata": {},
   "source": [
    "### Step 6: Compare the p-value with $\\alpha$"
   ]
  },
  {
   "cell_type": "code",
   "execution_count": 46,
   "id": "1876e9c0-7f69-4b52-8e3b-39ba3a7efd7b",
   "metadata": {},
   "outputs": [
    {
     "name": "stdout",
     "output_type": "stream",
     "text": [
      "========================================================================================================================\n",
      "As the p-value 0.43204138694325955 is greater than the level of significance, we fail to reject the null hypothesis.\n",
      "========================================================================================================================\n"
     ]
    }
   ],
   "source": [
    "print(\"=\" * 120)\n",
    "if p_value < alpha:\n",
    "    print(f'As the p-value {p_value} is less than the level of significance, we reject the null hypothesis.')\n",
    "else:\n",
    "    print(f'As the p-value {p_value} is greater than the level of significance, we fail to reject the null hypothesis.')\n",
    "print(\"=\" * 120)"
   ]
  },
  {
   "cell_type": "markdown",
   "id": "de4366d7-1b7d-4c41-8d14-59ae40d54edd",
   "metadata": {},
   "source": [
    "### Step 7:  Draw inference"
   ]
  },
  {
   "cell_type": "markdown",
   "id": "feb27c35-b624-4863-87bf-3fee9539a930",
   "metadata": {},
   "source": [
    "- We fail to reject the null hypothesis, this suggests that there is no statistically significant difference in the time spent on the new page across different language users.\n",
    "- In conclusion, the time spent on the new page `does not significantly` vary based on the users' language preferences."
   ]
  },
  {
   "cell_type": "markdown",
   "id": "3acbc947",
   "metadata": {
    "id": "3acbc947"
   },
   "source": [
    "## Conclusion and Business Recommendations"
   ]
  },
  {
   "cell_type": "markdown",
   "id": "U0dAd4i0iCHo",
   "metadata": {
    "id": "U0dAd4i0iCHo"
   },
   "source": [
    "___"
   ]
  },
  {
   "cell_type": "markdown",
   "id": "353d2a95-d78c-4e46-bf7d-ce645667ce90",
   "metadata": {},
   "source": [
    "### Conclusion "
   ]
  },
  {
   "cell_type": "markdown",
   "id": "99e0e426-4fde-4644-ba77-d4f5704e1aef",
   "metadata": {},
   "source": [
    "1. Do the users spend more time on the new landing page than on the existing landing page?\n",
    "\n",
    "   **Yes**, based on the one-tailed independent t-test, we can conclude with 99.9% confidence that the new landing page leads to higher user engagement in terms of time spent.\n",
    "\n",
    "\n",
    "2. Is the conversion rate for the new page greater than the conversion rate for the old page?\n",
    "\n",
    "   **Yes**, the new landing page achieves a significantly higher conversion rate than the old one (p-value = 0.008), demonstrating its greater effectiveness in encouraging users to subscribe.\n",
    "\n",
    "3. Does the converted status depend on the preferred language?\n",
    "\n",
    "   **No**, the analysis found no statistically significant relationship between a user’s preferred language and their likelihood of converting. This means language preference does not impact the decision to subscribe.\n",
    "\n",
    "4. Is the time spent on the new page the same for the different language users?\n",
    "\n",
    "   **Yes**, there is no significant difference in time spent on the new page among users of different language preferences. This suggests that the improvements in design are equally effective across all language groups."
   ]
  },
  {
   "cell_type": "markdown",
   "id": "e48b3b68-e6d6-4f3f-b7ee-229508158293",
   "metadata": {},
   "source": [
    "**Business Recommendations**"
   ]
  },
  {
   "cell_type": "markdown",
   "id": "f1330776-45da-4995-a87e-7eb40692eb05",
   "metadata": {},
   "source": [
    "**Here are the key business recommendations for E-news Express:**\n",
    "\n",
    "**Implement the New Landing Page:** Since it significantly increases both user engagement and conversion rates, the company should fully roll out the new landing page to all users.\n",
    "\n",
    "**Personalization is Not Necessary for Language Groups:** Since neither conversion rates nor time spent on the page differ significantly across language groups, additional localization efforts may not be necessary for engagement.\n",
    "\n",
    "These **`recommendations`** align with the findings and will help the **`company increase user retention and new subscriber growth effectively`**."
   ]
  }
 ],
 "metadata": {
  "colab": {
   "collapsed_sections": [
    "6970dd99",
    "9d75cfa2",
    "68f3b2c9",
    "fad2de2f",
    "27906576",
    "e5fdf0c8",
    "56b3dafd",
    "c7ee4907",
    "3f58c9a7",
    "5fed2eac",
    "f5c5258d",
    "359b12f8",
    "d9affc84",
    "353e9d24",
    "d49bfa2d",
    "8d585a90",
    "3acbc947"
   ],
   "provenance": []
  },
  "kernelspec": {
   "display_name": "Python 3 (ipykernel)",
   "language": "python",
   "name": "python3"
  },
  "language_info": {
   "codemirror_mode": {
    "name": "ipython",
    "version": 3
   },
   "file_extension": ".py",
   "mimetype": "text/x-python",
   "name": "python",
   "nbconvert_exporter": "python",
   "pygments_lexer": "ipython3",
   "version": "3.8.20"
  }
 },
 "nbformat": 4,
 "nbformat_minor": 5
}
